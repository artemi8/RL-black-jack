{
 "cells": [
  {
   "cell_type": "code",
   "execution_count": 110,
   "id": "46d7b532-28b0-4560-91ff-5d6246854346",
   "metadata": {},
   "outputs": [],
   "source": [
    "import numpy as np\n",
    "import random"
   ]
  },
  {
   "cell_type": "markdown",
   "id": "47b19138-fce0-4c5c-8b0c-7b3a10dae2b6",
   "metadata": {},
   "source": [
    "# Black Jack stylised environment"
   ]
  },
  {
   "cell_type": "markdown",
   "id": "bf5ebec2-908d-4990-92ee-a77e5200a84d",
   "metadata": {},
   "source": [
    "## Deck Setup \n",
    "1. Card Suits : Spades, Hearts, Diamonds and Clubs\n",
    "2. Face Cards : Kings, Queens and Jacks\n",
    "3. Ace = Aces\n",
    "4. Number cards : 2 to 10"
   ]
  },
  {
   "cell_type": "markdown",
   "id": "58621088-83ca-40eb-a941-713c119e1ded",
   "metadata": {},
   "source": [
    "# Card value setup\n",
    "\n",
    "1. Face cards : 10\n",
    "2. Ace : 11 if bust 1\n",
    "3. Number : Numerical value equal to their number"
   ]
  },
  {
   "cell_type": "code",
   "execution_count": 15,
   "id": "22b76239-87e3-4997-8ec5-bfbd6c04df2a",
   "metadata": {},
   "outputs": [],
   "source": []
  },
  {
   "cell_type": "code",
   "execution_count": 16,
   "id": "f4296035-31bd-4894-bf57-6aeb5eb1c1bb",
   "metadata": {},
   "outputs": [
    {
     "data": {
      "text/plain": [
       "(['A', 'K', 'Q', 'J', '2', '3', '4', '5', '6', '7', '8', '9', '10'], 13)"
      ]
     },
     "execution_count": 16,
     "metadata": {},
     "output_type": "execute_result"
    }
   ],
   "source": [
    "suitless_group, len(suitless_group)"
   ]
  },
  {
   "cell_type": "markdown",
   "id": "a5dc53db-ddd1-4cdd-9e5b-e9a203b72958",
   "metadata": {},
   "source": [
    "# Verify deck creation once with Tamal"
   ]
  },
  {
   "cell_type": "code",
   "execution_count": 60,
   "id": "106c0d82-6a63-4fe1-9b2b-49bf45541951",
   "metadata": {},
   "outputs": [],
   "source": []
  },
  {
   "cell_type": "code",
   "execution_count": 75,
   "id": "bfc6dd53-3ff7-4a98-be99-ac8775e26a80",
   "metadata": {},
   "outputs": [
    {
     "data": {
      "text/plain": [
       "1"
      ]
     },
     "execution_count": 75,
     "metadata": {},
     "output_type": "execute_result"
    }
   ],
   "source": [
    "BlackJackActions().sample()"
   ]
  },
  {
   "cell_type": "code",
   "execution_count": 151,
   "id": "5319af9b-b4eb-4b7f-944f-405ec405b746",
   "metadata": {},
   "outputs": [],
   "source": [
    "class BlackJackActions:\n",
    "    '''\n",
    "    \n",
    "    Black Jack Actions class and Random action sampler\n",
    "    Actions\n",
    "        1 : Hit\n",
    "        0 : Stick\n",
    "        \n",
    "    '''\n",
    "    def __init__(self):\n",
    "        self.action_space = np.array([1, 0])\n",
    "        \n",
    "    def sample(self):\n",
    "        return np.random.choice(self.action_space)\n",
    "\n",
    "\n",
    "class BlackJackStylised:\n",
    "    '''\n",
    "    Deck Setup\n",
    "        Card Suits : Spades, Hearts, Diamonds and Clubs\n",
    "        Face Cards : Kings, Queens and Jacks\n",
    "        Ace = Aces\n",
    "        Number cards : 2 to 10\n",
    "        \n",
    "    Card value setup\n",
    "        Face cards : 10\n",
    "        Ace : 11 if bust 1\n",
    "        Number : Numerical value equal to their number\n",
    "        \n",
    "        \n",
    "    Actions\n",
    "        1 : Hit\n",
    "        0 : Stick\n",
    "    '''\n",
    "    \n",
    "    _card_suits = ['S', 'H', 'D', 'C']\n",
    "    _face_cards = ['K', 'Q', 'J']\n",
    "    _ace = ['A']\n",
    "    _number_cards = ['2', '3', '4', '5', '6', '7', '8', '9', '10'] \n",
    "    _face_cards_value = 10\n",
    "    _usable_ace = 11\n",
    "    _unusable_ace = 1\n",
    "    _max_hand_value = 21\n",
    "\n",
    "    _suitless_group = _ace + _face_cards + _number_cards\n",
    "    \n",
    "    def __init__(self, num_decks=None, max_episodes=None):\n",
    "    \n",
    "        self.num_decks = num_decks\n",
    "        self.max_episodes = max_episodes\n",
    "        self.inf_deck = False\n",
    "        \n",
    "    \n",
    "    def reset_init(self):\n",
    "        '''\n",
    "        TODO \n",
    "        ***Handle Natural black jack while dealing***\n",
    "        '''\n",
    "        \n",
    "        self.action = BlackJackActions()\n",
    "        self._create_n_decks()\n",
    "        self.episode_counter = 0\n",
    "        self.hand_complete = False\n",
    "        self.usable_ace = False\n",
    "        \n",
    "        if self.num_decks is None:\n",
    "            self.player_hand = self._infinitsampler(init = True)\n",
    "        else:\n",
    "            self.player_hand = self._finitsampler(init = True)\n",
    "            \n",
    "        \n",
    "        \n",
    "        self.current_sum = sum(self.get_card_value(self.player_hand))\n",
    "        \n",
    "        if self.current_sum > self._max_hand_value:\n",
    "            self.hand_complete = True\n",
    "            print(\"That's a natural black jack\")\n",
    "                \n",
    "        return (self.player_hand, self.current_sum, self.usable_ace, self.hand_complete)\n",
    "        \n",
    "        \n",
    "    def step(self, action):\n",
    "        '''\n",
    "        returns Tuple(cards in hand, total sum, useable ace bool, hand complete bool)\n",
    "        '''\n",
    "        if self.hand_complete == True:\n",
    "            raise Exception('Hand exceeded total hand sum of 21')\n",
    "        if self.inf_deck:\n",
    "            if self.max_episodes is not None:\n",
    "\n",
    "                if self.episode_counter > self.max_episodes:\n",
    "                    raise Exception('Episode count exceeded maximum limit! Please reset before starting the game.')\n",
    "\n",
    "                if self.max_episodes is not None:\n",
    "                    self.episode_counter += 1\n",
    "            \n",
    "            if action == 1:\n",
    "                self.player_hand.append(self._infinitsampler(init=False)[0])\n",
    "                self.current_sum = sum(self.get_card_value(self.player_hand))\n",
    "\n",
    "                if self.current_sum > self._max_hand_value:\n",
    "                    self.hand_complete = True\n",
    "                return (self.player_hand, self.current_sum, self.usable_ace, self.hand_complete)\n",
    "            else:\n",
    "                self.hand_complete = True\n",
    "                return (self.player_hand, self.current_sum, self.usable_ace, self.hand_complete)\n",
    "        \n",
    "    \n",
    "    def _infinitsampler(self, init = False):\n",
    "        '''\n",
    "        TODO\n",
    "        return with a bool of usable_ace\n",
    "        '''\n",
    "        if init == True:\n",
    "            return random.choices(self.decks, k=2)\n",
    "        else:\n",
    "            return random.choices(self.decks, k=1)\n",
    "        \n",
    "    def _finitsample(self, init=False):\n",
    "        pass\n",
    "        \n",
    "        \n",
    "    def _create_deck(self):\n",
    "        \n",
    "        deck = []\n",
    "        for suit in self._card_suits:\n",
    "            for suitless_card in self._suitless_group:\n",
    "                deck.append(suit+'.'+suitless_card)\n",
    "                \n",
    "        np.random.shuffle(deck)\n",
    "        \n",
    "        return deck\n",
    "        \n",
    "    def _create_n_decks(self):\n",
    "        \n",
    "        if self.num_decks is None:\n",
    "            self.decks = self._create_deck()\n",
    "            self.inf_deck = True\n",
    "            \n",
    "        else:\n",
    "            self.decks = []\n",
    "            for i in range(self.num_decks):\n",
    "                self.decks += self._create_deck()\n",
    "            \n",
    "            np.random.shuffle(self.decks)\n",
    "\n",
    "    def get_card_value(self, cards):\n",
    "        '''\n",
    "        Maybe you need to come back and make changes for keeping track if usable and unusable ACE\n",
    "        \n",
    "        return individual values, and total sum of the hand\n",
    "        '''\n",
    "        \n",
    "        hand_values = []\n",
    "        for card in cards:\n",
    "            suitless_card = card.split('.')[-1]\n",
    "\n",
    "            if suitless_card in self._number_cards:\n",
    "                hand_values.append(int(suitless_card))\n",
    "\n",
    "            elif suitless_card == 'A':\n",
    "                if self.current_sum + self._usable_ace > 21:\n",
    "                    self.usable_ace = False\n",
    "                    hand_values.append(self._unusable_ace)\n",
    "                else:\n",
    "                    self.usable_ace = True\n",
    "                    hand_values.append(self._usable_ace)\n",
    "            else:\n",
    "                hand_values.append(self._face_cards_value)\n",
    "        return hand_values\n",
    "        "
   ]
  },
  {
   "cell_type": "code",
   "execution_count": 152,
   "id": "88b04f6e-d9e7-40b3-956a-5f31c4c665b9",
   "metadata": {},
   "outputs": [],
   "source": [
    "env = BlackJackStylised()"
   ]
  },
  {
   "cell_type": "code",
   "execution_count": 153,
   "id": "93ba54bf-0211-405c-84fe-f90f307fdb1e",
   "metadata": {},
   "outputs": [
    {
     "data": {
      "text/plain": [
       "(['C.6', 'C.2'], 8, False, False)"
      ]
     },
     "execution_count": 153,
     "metadata": {},
     "output_type": "execute_result"
    }
   ],
   "source": [
    "env.reset_init()"
   ]
  },
  {
   "cell_type": "code",
   "execution_count": 157,
   "id": "325bc3ef-a174-4228-a839-1c71d5b61d17",
   "metadata": {},
   "outputs": [
    {
     "data": {
      "text/plain": [
       "(['C.6', 'C.2', 'S.2', 'H.6', 'H.Q'], 26, False, True)"
      ]
     },
     "execution_count": 157,
     "metadata": {},
     "output_type": "execute_result"
    }
   ],
   "source": [
    "env.step(1)"
   ]
  },
  {
   "cell_type": "code",
   "execution_count": null,
   "id": "857d92d0-b501-43c5-b94a-e3cb1532a792",
   "metadata": {},
   "outputs": [],
   "source": []
  }
 ],
 "metadata": {
  "kernelspec": {
   "display_name": "Python 3 (ipykernel)",
   "language": "python",
   "name": "python3"
  },
  "language_info": {
   "codemirror_mode": {
    "name": "ipython",
    "version": 3
   },
   "file_extension": ".py",
   "mimetype": "text/x-python",
   "name": "python",
   "nbconvert_exporter": "python",
   "pygments_lexer": "ipython3",
   "version": "3.9.12"
  }
 },
 "nbformat": 4,
 "nbformat_minor": 5
}

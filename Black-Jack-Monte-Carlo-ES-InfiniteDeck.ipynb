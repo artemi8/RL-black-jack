{
 "cells": [
  {
   "cell_type": "markdown",
   "id": "47b19138-fce0-4c5c-8b0c-7b3a10dae2b6",
   "metadata": {},
   "source": [
    "# Black Jack stylised environment"
   ]
  },
  {
   "cell_type": "markdown",
   "id": "bf5ebec2-908d-4990-92ee-a77e5200a84d",
   "metadata": {},
   "source": [
    "## Deck Setup \n",
    "1. Card Suits : Spades, Hearts, Diamonds and Clubs\n",
    "2. Face Cards : Kings, Queens and Jacks\n",
    "3. Ace = Aces\n",
    "4. Number cards : 2 to 10"
   ]
  },
  {
   "cell_type": "markdown",
   "id": "58621088-83ca-40eb-a941-713c119e1ded",
   "metadata": {},
   "source": [
    "# Card value setup\n",
    "\n",
    "1. Face cards : 10\n",
    "2. Ace : 11 if bust 1\n",
    "3. Number : Numerical value equal to their number"
   ]
  },
  {
   "cell_type": "markdown",
   "id": "2366465d-f8ec-4a54-96c0-38e774232020",
   "metadata": {},
   "source": [
    "# Reward Function\n",
    "\n",
    "![Cost function](images/cost_function.png)"
   ]
  },
  {
   "cell_type": "markdown",
   "id": "b7da79b1-f02b-4d9c-91b9-2b713dfb30a4",
   "metadata": {},
   "source": [
    "## Doubts\n",
    "1. When calculating the score for the hand, when there is unusable ace, should be count that as 1 or 11?\n",
    "2. How do we score and end the game when there is only one last card left in the deck and still the agent wants to stick?\n",
    "4. How do I make reward after each state and action, question seems to give reward only after a hand is finished?\n",
    "    1. *The reward in this game is sparse, as we only know how to label the last state in a hand with a reward. Think back to how the rewards are assigned in the chess example in the lectures - we give a non-zero reward at the end for a win/lose outcome and 0 otherwise for all other transitions.*\n"
   ]
  },
  {
   "cell_type": "markdown",
   "id": "0c44972e-0f91-45de-ba88-29af7d29beb5",
   "metadata": {},
   "source": [
    "# TODO\n",
    "1. Run variations iteration and find the nth iteration when the agent's q values shows minimal change to tell when the agent reached a optimal policy\n",
    "2. Find other plots like training error, rewards throughout the iterations"
   ]
  },
  {
   "cell_type": "markdown",
   "id": "e226da6e-5362-49ef-9923-a84c69c5cfe0",
   "metadata": {},
   "source": [
    "# <font color='orange'>Inferences</font>\n",
    "\n",
    "1. Tendency to stick increases at an early point of time (in terms of sum of the hand as state) with decrease in Gamma value"
   ]
  },
  {
   "cell_type": "code",
   "execution_count": 1,
   "id": "46d7b532-28b0-4560-91ff-5d6246854346",
   "metadata": {},
   "outputs": [],
   "source": [
    "import numpy as np\n",
    "import random\n",
    "\n",
    "from utils.blackjack_env_builder import BlackJackStylised\n",
    "from utils.scorer import Scorer, quadratic_scorer\n",
    "from tqdm import tqdm\n",
    "from matplotlib import pyplot as plt\n",
    "from utils.general import plot_monte_carlo_q_values"
   ]
  },
  {
   "cell_type": "code",
   "execution_count": 2,
   "id": "c59c8694-d051-40a7-b09c-dd000f65c7bb",
   "metadata": {},
   "outputs": [],
   "source": [
    "# class MonteCarloES:\n",
    "#     '''\n",
    "#     Monte Carlo Exploring starts algorithm\n",
    "#     '''\n",
    "    \n",
    "#     # TODO Print the number of states and actions along with the defined init_configurations\n",
    "#     def __init__(self, states, actions, init_config:dict, verbose=False): # reward_function\n",
    "        \n",
    "#         self.states = states\n",
    "#         self.actions = actions\n",
    "#         self.init_config = init_config\n",
    "#         # self.reward_function = reward_function\n",
    "#         self.initialize_Q_returns()\n",
    "        \n",
    "#     def epsilon_greedy_policy(self, state):\n",
    "        \n",
    "#         if random.random() < self.init_config['epsilon']:\n",
    "#             return random.choice(self.actions)\n",
    "#         else:\n",
    "#             return self._exploit(state)\n",
    "        \n",
    "#     def _exploit(self, state):\n",
    "#         greedy_action = max(list(self.Q[state].keys()),\n",
    "#                                 key=lambda x: self.Q[state][x]['value'])\n",
    "#         return greedy_action\n",
    "        \n",
    "    \n",
    "#     def initialize_Q_returns(self):\n",
    "#         self.Q = {}\n",
    "#         # self.returns = {}\n",
    "#         for state in self.states:\n",
    "#             action_dict = {}\n",
    "#             for action in self.actions:\n",
    "#                 # self.returns[(state, action)] = {'mean':0, 'count':0}\n",
    "#                 action_dict[action] = {'value':self.init_config['init_state_action_val'], \n",
    "#                                        'count':0}\n",
    "#             self.Q[state] = action_dict\n",
    "            \n",
    "            \n",
    "#     # TODO Check this function\n",
    "#     def _moving_average_returns(self, state, action, G):\n",
    "        \n",
    "#         curr_val = self.Q[state][action]['value']\n",
    "#         count = self.Q[state][action]['count']\n",
    "        \n",
    "#         mov_avg = curr_val + ((G - curr_val)/count)\n",
    "#         # mov_avg = (curr_val * count + G)/ count \n",
    "        \n",
    "#         return mov_avg\n",
    "            \n",
    "        \n",
    "#     def policy_evaluation(self, episode):\n",
    "        \n",
    "#         # Starting from reverse order for policy evaluation\n",
    "#         # for episode in episodes:\n",
    "#         state_repeat_check = []\n",
    "#         G = 0\n",
    "#         for state, action, reward in reversed(episode):\n",
    "\n",
    "#             # TODO Check if returns are right\n",
    "#             G = self.init_config['gamma']*G + reward\n",
    "\n",
    "#             if (state, action) not in state_repeat_check:\n",
    "#                 state_repeat_check.append((state, action))\n",
    "#                 self.Q[state][action]['count'] += 1\n",
    "#                 self.Q[state][action]['value'] = self._moving_average_returns(state, action, G)\n",
    "            "
   ]
  },
  {
   "cell_type": "code",
   "execution_count": 2,
   "id": "0093321e-27c2-47c2-be4c-431789f4a6e9",
   "metadata": {},
   "outputs": [],
   "source": [
    "class MonteCarloES:\n",
    "    '''\n",
    "    Monte Carlo Exploring starts algorithm\n",
    "    '''\n",
    "    \n",
    "    # TODO Print the number of states and actions along with the defined init_configurations\n",
    "    def __init__(self, init_config:dict, actions, verbose=False, epsilon_decay=False,\n",
    "                 epsilon_decay_param={\"min_epsilon\":0.05, \"max_epsilon\":0, \"decay_factor\":0.0005}): \n",
    "        \n",
    "        self.actions = actions\n",
    "        self.init_config = init_config\n",
    "        self.epsilon_decay_param = epsilon_decay_param\n",
    "        if epsilon_decay:\n",
    "            self.epsilon_decay_param['max_epsilon'] = self.init_config['epsilon']\n",
    "        self.initialize_Q()\n",
    "        \n",
    "    def epsilon_greedy_policy(self, state):\n",
    "        \n",
    "        hand_sum, usable_ace = state\n",
    "        # hand_sum, usable_ace, deck_feature = state\n",
    "        if random.random() < self.init_config['epsilon']:\n",
    "            return random.choice(self.actions)\n",
    "        else:\n",
    "            ## return np.argmax(self.Q[int(current_sum), usable_ace, deck_feature])\n",
    "            return np.argmax(self.Q[int(hand_sum), usable_ace, :, 0])\n",
    "        \n",
    "\n",
    "        \n",
    "    def initialize_Q(self):\n",
    "        '''\n",
    "        Zero initialized Q values\n",
    "        '''\n",
    "        self.Q = np.zeros((len(self.init_config['states']['state_dim_1']),\n",
    "                           len(self.init_config['states']['state_dim_2']), len(self.actions), 2)) \n",
    "        \n",
    "    \n",
    "    def epsilon_decay(self, episode_num):\n",
    "        \n",
    "        min_epsilon = self.epsilon_decay_param['min_epsilon']\n",
    "        max_epsilon = self.epsilon_decay_param['max_epsilon']\n",
    "        decay_factor = self.epsilon_decay_param['decay_factor']\n",
    "        \n",
    "        self.init_config['epsilon'] = min_epsilon + (max_epsilon - min_epsilon)*np.exp(-decay_factor*episode_num) \n",
    "            \n",
    "    def _moving_average_returns(self, hand_sum, usable_ace, action, G):\n",
    "        \n",
    "        curr_val = self.Q[hand_sum][usable_ace][action][0]\n",
    "        count = self.Q[hand_sum][usable_ace][action][1]\n",
    "        \n",
    "        mov_avg = curr_val + ((G - curr_val)/count)\n",
    "        # mov_avg = (curr_val * count + G)/ count + 1 \n",
    "        \n",
    "        return mov_avg\n",
    "            \n",
    "        \n",
    "    def policy_evaluation(self, episode):\n",
    "        \n",
    "        # Starting from reverse order for policy evaluation\n",
    "        # for episode in episodes:\n",
    "        state_repeat_check = []\n",
    "        G = 0\n",
    "        for hand_sum, usable_ace, action, reward in reversed(episode):\n",
    "\n",
    "            G = self.init_config['gamma']*G + reward\n",
    "\n",
    "            if (hand_sum, usable_ace, action) not in state_repeat_check:\n",
    "                state_repeat_check.append((int(hand_sum), usable_ace, action))\n",
    "                # print(self.Q.shape)\n",
    "                # print([int(hand_sum),usable_ace, action,1])\n",
    "                # print()\n",
    "                self.Q[int(hand_sum)][usable_ace][action][1] += 1\n",
    "                self.Q[int(hand_sum)][usable_ace][action][0] = self._moving_average_returns(int(hand_sum), usable_ace, action, G)\n",
    "            "
   ]
  },
  {
   "cell_type": "markdown",
   "id": "6d8b7225-528f-4ff8-9b42-d2147f2ac5a5",
   "metadata": {},
   "source": [
    "## For infinite Decks"
   ]
  },
  {
   "cell_type": "code",
   "execution_count": 8,
   "id": "bacbec9f-1296-431e-9497-164866027799",
   "metadata": {},
   "outputs": [],
   "source": [
    "env = BlackJackStylised()"
   ]
  },
  {
   "cell_type": "code",
   "execution_count": 9,
   "id": "88a8b7dd-b726-4f78-96c5-59f4f57cc5ab",
   "metadata": {},
   "outputs": [],
   "source": [
    "init_config= {'init_state_action_val': 0,\n",
    "              'epsilon' : 0.25,\n",
    "              'gamma' : 0.75,\n",
    "              'states' : {'state_dim_1':list(range(2, 22)),\n",
    "                          'state_dim_2': [0,1]}}\n",
    "agent_v1 = MonteCarloES(init_config=init_config, actions=[0, 1], epsilon_decay=True)"
   ]
  },
  {
   "cell_type": "code",
   "execution_count": 11,
   "id": "4c2e7ad6-9c7d-48b9-9292-25bfa4e048ca",
   "metadata": {},
   "outputs": [
    {
     "name": "stderr",
     "output_type": "stream",
     "text": [
      "100%|██████████████████████████████████████████████████████████████████████| 1000000/1000000 [01:54<00:00, 8732.51it/s]\n"
     ]
    }
   ],
   "source": [
    "cards, curr_sum, usable_ace, hand_complete = env.reset_init(hard=True)\n",
    "sum_offset = 2\n",
    "curr_sum -= sum_offset \n",
    "total_episodes = 1000000\n",
    "episode_break_flag = True\n",
    "\n",
    "if not hand_complete:\n",
    "    # episodes = []\n",
    "    for i in tqdm(list(range(total_episodes))):\n",
    "        episode = []\n",
    "        episode_break_flag = True\n",
    "        while episode_break_flag:\n",
    "            action = agent_v1.epsilon_greedy_policy((curr_sum, int(usable_ace)))\n",
    "            cards, new_sum, usable_ace, hand_complete = env.step(action)\n",
    "            \n",
    "            \n",
    "            if new_sum > 21 or hand_complete == True:\n",
    "                episode_break_flag = False\n",
    "                reward = quadratic_scorer(curr_sum) #new_sum\n",
    "                episode.append([curr_sum, int(usable_ace), action, reward])\n",
    "                curr_sum = new_sum - sum_offset\n",
    "                break\n",
    "            \n",
    "            reward = 0\n",
    "            episode.append([curr_sum, int(usable_ace), action, reward])\n",
    "            curr_sum = new_sum - sum_offset\n",
    "                \n",
    "        \n",
    "                \n",
    "        agent_v1.policy_evaluation(episode)\n",
    "        agent_v1.epsilon_decay(i)\n",
    "        # episodes.append(episode)\n",
    "        cards, curr_sum, usable_ace, hand_complete = env.reset_init()\n",
    "        curr_sum -= sum_offset"
   ]
  },
  {
   "cell_type": "markdown",
   "id": "e74a552d-5c18-4516-9638-c5c4e4e4ae20",
   "metadata": {},
   "source": [
    "## With Epsilon Decay"
   ]
  },
  {
   "cell_type": "code",
   "execution_count": 13,
   "id": "3ab26330-f969-4937-a32c-828fce46994f",
   "metadata": {},
   "outputs": [
    {
     "data": {
      "image/png": "[encoded data removed]",
      "text/plain": [
       "<Figure size 432x288 with 1 Axes>"
      ]
     },
     "metadata": {
      "needs_background": "light"
     },
     "output_type": "display_data"
    },
    {
     "data": {
      "image/png": "[encoded data removed]",
      "text/plain": [
       "<Figure size 432x288 with 1 Axes>"
      ]
     },
     "metadata": {
      "needs_background": "light"
     },
     "output_type": "display_data"
    }
   ],
   "source": [
    "plot_monte_carlo_q_values(agent_v1, usable_ace=True, deck_feature_representative=1)  # For usable ace\n",
    "plot_monte_carlo_q_values(agent_v1, usable_ace=False, deck_feature_representative=1) # For unusable ace"
   ]
  },
  {
   "cell_type": "markdown",
   "id": "ebd0cb32-459d-4b56-9660-da406845860e",
   "metadata": {},
   "source": [
    "## With Constant Epsilon"
   ]
  },
  {
   "cell_type": "code",
   "execution_count": 10,
   "id": "ebb60e76-4aaf-4ece-af32-a30be7087075",
   "metadata": {},
   "outputs": [
    {
     "data": {
      "image/png": "[encoded data removed]",
      "text/plain": [
       "<Figure size 432x288 with 1 Axes>"
      ]
     },
     "metadata": {
      "needs_background": "light"
     },
     "output_type": "display_data"
    },
    {
     "data": {
      "image/png": "[encoded data removed]",
      "text/plain": [
       "<Figure size 432x288 with 1 Axes>"
      ]
     },
     "metadata": {
      "needs_background": "light"
     },
     "output_type": "display_data"
    }
   ],
   "source": [
    "plot_monte_carlo_q_values(agent_v1, usable_ace=True, deck_feature_representative=1)  # For usable ace\n",
    "plot_monte_carlo_q_values(agent_v1, usable_ace=False, deck_feature_representative=1) # For unusable ace"
   ]
  },
  {
   "cell_type": "code",
   "execution_count": null,
   "id": "5ef552e3-c673-4ed6-920d-ab597266261d",
   "metadata": {},
   "outputs": [],
   "source": []
  },
  {
   "cell_type": "code",
   "execution_count": null,
   "id": "615b4504-075c-477d-909d-a86d1e9ede49",
   "metadata": {},
   "outputs": [],
   "source": []
  },
  {
   "cell_type": "code",
   "execution_count": 15,
   "id": "cf504032-d8b0-4e06-ac44-f52aeea3eaad",
   "metadata": {},
   "outputs": [
    {
     "name": "stderr",
     "output_type": "stream",
     "text": [
      "100%|████████████████████████████████████████████████████████████████████████████| 1000/1000 [00:00<00:00, 1227.89it/s]\n"
     ]
    },
    {
     "data": {
      "text/plain": [
       "(61.453, 38.885238728854425)"
      ]
     },
     "execution_count": 15,
     "metadata": {},
     "output_type": "execute_result"
    }
   ],
   "source": [
    "def evaluate_agent(n_eval_episodes, Q):\n",
    "  # Assuming you have an instance of your environment\n",
    "  env = BlackJackStylised(num_decks=3)\n",
    "  episode_rewards = []\n",
    "#   print(Q)\n",
    "  for episode in tqdm(range(n_eval_episodes)):\n",
    "      total_rewards_ep = 0\n",
    "      cards, current_sum, usable_ace, hand_complete = env.reset_init(hard=True)\n",
    "      # print(env.card_counter)\n",
    "      # deck_feature = get_deck_feature(env.card_counter)\n",
    "      # print(deck_feature)\n",
    "      state = (int(current_sum-1), int(usable_ace))\n",
    "      done = hand_complete\n",
    "\n",
    "      \n",
    "      while not env.deck_complete: ## 1 episode\n",
    "          while not done: ## 1 Hand\n",
    "              if env.deck_complete:\n",
    "                  break\n",
    "              # print(Q)\n",
    "              # print(int(current_sum), usable_ace)\n",
    "              # print(Q[int(current_sum), usable_ace])\n",
    "              action = np.argmax(Q[int(current_sum-1), int(usable_ace)])\n",
    "              # print(action)\n",
    "              next_cards, next_sum, next_usable_ace, hand_complete = env.step(action)\n",
    "              # print(next_cards)\n",
    "              # next_deck_feature = get_deck_feature(env.card_counter)\n",
    "              next_state = (next_sum, int(next_usable_ace))\n",
    "              reward = 0 if not hand_complete else quadratic_scorer(next_sum)\n",
    "              # if hand_complete:\n",
    "              #   # print(next_cards, next_sum, next_usable_ace)\n",
    "              #   # print('Reward: ', reward) \n",
    "              # else:\n",
    "              #   pass\n",
    "              state = next_state\n",
    "              current_sum = next_sum\n",
    "              usable_ace = next_usable_ace \n",
    "              done = hand_complete\n",
    "          \n",
    "          # print('Hand Finished')\n",
    "          cards, current_sum, usable_ace, hand_complete = env.reset_init()\n",
    "      episode_rewards.append(reward)     \n",
    "       \n",
    "            \n",
    "  mean_reward = np.mean(episode_rewards)\n",
    "  std_reward = np.std(episode_rewards)\n",
    "\n",
    "  return mean_reward, std_reward\n",
    "  \n",
    "evaluate_agent(n_eval_episodes=1000, Q=agent_v1.Q)"
   ]
  },
  {
   "cell_type": "code",
   "execution_count": null,
   "id": "74ae5d38-1c35-46a9-a1ac-24ebc13d571f",
   "metadata": {},
   "outputs": [],
   "source": []
  }
 ],
 "metadata": {
  "kernelspec": {
   "display_name": "Python 3 (ipykernel)",
   "language": "python",
   "name": "python3"
  },
  "language_info": {
   "codemirror_mode": {
    "name": "ipython",
    "version": 3
   },
   "file_extension": ".py",
   "mimetype": "text/x-python",
   "name": "python",
   "nbconvert_exporter": "python",
   "pygments_lexer": "ipython3",
   "version": "3.9.12"
  }
 },
 "nbformat": 4,
 "nbformat_minor": 5
}

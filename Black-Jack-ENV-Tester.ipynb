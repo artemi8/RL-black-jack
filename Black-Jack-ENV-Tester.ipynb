{
 "cells": [
  {
   "cell_type": "code",
   "execution_count": 1,
   "id": "46d7b532-28b0-4560-91ff-5d6246854346",
   "metadata": {},
   "outputs": [],
   "source": [
    "import numpy as np\n",
    "import random\n",
    "\n",
    "from utils.blackjack_env_builder import BlackJackStylised"
   ]
  },
  {
   "cell_type": "markdown",
   "id": "47b19138-fce0-4c5c-8b0c-7b3a10dae2b6",
   "metadata": {},
   "source": [
    "# Black Jack stylised environment"
   ]
  },
  {
   "cell_type": "markdown",
   "id": "bf5ebec2-908d-4990-92ee-a77e5200a84d",
   "metadata": {},
   "source": [
    "## Deck Setup \n",
    "1. Card Suits : Spades, Hearts, Diamonds and Clubs\n",
    "2. Face Cards : Kings, Queens and Jacks\n",
    "3. Ace = Aces\n",
    "4. Number cards : 2 to 10"
   ]
  },
  {
   "cell_type": "markdown",
   "id": "58621088-83ca-40eb-a941-713c119e1ded",
   "metadata": {},
   "source": [
    "# Card value setup\n",
    "\n",
    "1. Face cards : 10\n",
    "2. Ace : 11 if bust 1\n",
    "3. Number : Numerical value equal to their number"
   ]
  },
  {
   "cell_type": "code",
   "execution_count": 3,
   "id": "88b04f6e-d9e7-40b3-956a-5f31c4c665b9",
   "metadata": {},
   "outputs": [],
   "source": [
    "env = BlackJackStylised(num_decks=2)"
   ]
  },
  {
   "cell_type": "code",
   "execution_count": 6,
   "id": "93ba54bf-0211-405c-84fe-f90f307fdb1e",
   "metadata": {},
   "outputs": [
    {
     "data": {
      "text/plain": [
       "(['S.4', 'C.7'], 11, False, False)"
      ]
     },
     "execution_count": 6,
     "metadata": {},
     "output_type": "execute_result"
    }
   ],
   "source": [
    "env.reset_init()"
   ]
  },
  {
   "cell_type": "code",
   "execution_count": 8,
   "id": "325bc3ef-a174-4228-a839-1c71d5b61d17",
   "metadata": {},
   "outputs": [
    {
     "name": "stdout",
     "output_type": "stream",
     "text": [
      "Player is bust total sum is greater than 21!\n"
     ]
    },
    {
     "data": {
      "text/plain": [
       "(['S.4', 'C.7', 'S.5', 'D.J'], 26, False, True)"
      ]
     },
     "execution_count": 8,
     "metadata": {},
     "output_type": "execute_result"
    }
   ],
   "source": [
    "env.step(1)"
   ]
  },
  {
   "cell_type": "code",
   "execution_count": 9,
   "id": "47aa755e-2d01-4e1b-b214-ea7b5d19f0d9",
   "metadata": {},
   "outputs": [
    {
     "data": {
      "text/plain": [
       "{'K': {'curr_count': 7, 'total': 8},\n",
       " 'Q': {'curr_count': 8, 'total': 8},\n",
       " 'J': {'curr_count': 6, 'total': 8},\n",
       " 'A': {'curr_count': 8, 'total': 8},\n",
       " '2': {'curr_count': 8, 'total': 8},\n",
       " '3': {'curr_count': 8, 'total': 8},\n",
       " '4': {'curr_count': 7, 'total': 8},\n",
       " '5': {'curr_count': 7, 'total': 8},\n",
       " '6': {'curr_count': 6, 'total': 8},\n",
       " '7': {'curr_count': 7, 'total': 8},\n",
       " '8': {'curr_count': 8, 'total': 8},\n",
       " '9': {'curr_count': 8, 'total': 8},\n",
       " '10': {'curr_count': 7, 'total': 8}}"
      ]
     },
     "execution_count": 9,
     "metadata": {},
     "output_type": "execute_result"
    }
   ],
   "source": [
    "env.card_counter"
   ]
  },
  {
   "cell_type": "code",
   "execution_count": null,
   "id": "368d9c79-9dcd-4d8e-8bae-c093a6f4daa7",
   "metadata": {},
   "outputs": [],
   "source": [
    "print()"
   ]
  },
  {
   "cell_type": "code",
   "execution_count": null,
   "id": "c59c8694-d051-40a7-b09c-dd000f65c7bb",
   "metadata": {},
   "outputs": [],
   "source": []
  }
 ],
 "metadata": {
  "kernelspec": {
   "display_name": "Python 3 (ipykernel)",
   "language": "python",
   "name": "python3"
  },
  "language_info": {
   "codemirror_mode": {
    "name": "ipython",
    "version": 3
   },
   "file_extension": ".py",
   "mimetype": "text/x-python",
   "name": "python",
   "nbconvert_exporter": "python",
   "pygments_lexer": "ipython3",
   "version": "3.9.12"
  }
 },
 "nbformat": 4,
 "nbformat_minor": 5
}

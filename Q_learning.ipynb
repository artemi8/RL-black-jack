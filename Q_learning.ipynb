{
 "cells": [
  {
   "cell_type": "code",
   "execution_count": 1,
   "id": "31bc0c64-eb83-43ae-88af-d4b2dba652ea",
   "metadata": {},
   "outputs": [],
   "source": [
    "import numpy as np\n",
    "import random\n",
    "\n",
    "from utils.blackjack_env_builder import BlackJackStylised\n",
    "from utils.scorer import Scorer, quadratic_scorer\n",
    "from tqdm import tqdm\n",
    "from matplotlib import pyplot as plt\n",
    "from utils.general import plot_Q_values"
   ]
  },
  {
   "cell_type": "code",
   "execution_count": 30,
   "id": "daa2dd84-0a0f-41c3-a73d-343be765e237",
   "metadata": {},
   "outputs": [],
   "source": [
    "import numpy as np\n",
    "import random\n",
    "\n",
    "class BlackjackQLearningAgent:\n",
    "    def __init__(self, num_states, num_deck_features, num_actions, learning_rate=0.1, discount_factor=0.9, epsilon=0.1):\n",
    "        self.Q = np.zeros((num_states, 2, num_deck_features, num_actions))\n",
    "        self.learning_rate = learning_rate\n",
    "        self.discount_factor = discount_factor\n",
    "        self.epsilon = epsilon\n",
    "        self.num_actions = num_actions\n",
    "\n",
    "    def choose_action(self, state):\n",
    "        current_sum, usable_ace, deck_feature = state\n",
    "        if random.random() < self.epsilon:\n",
    "            return random.choice(range(self.num_actions))\n",
    "        else:\n",
    "            return np.argmax(self.Q[int(current_sum), usable_ace, deck_feature])\n",
    "\n",
    "    def update(self, state, action, reward, next_state, done):\n",
    "        current_sum, usable_ace, deck_feature = state\n",
    "        next_sum, next_usable_ace, next_deck_feature = next_state\n",
    "\n",
    "        old_value = self.Q[int(current_sum), usable_ace, deck_feature, action]\n",
    "        # print(next_sum, next_usable_ace, next_deck_feature)\n",
    "        next_max = np.max(self.Q[int(next_sum), next_usable_ace, next_deck_feature]) if not done else 0\n",
    "\n",
    "        new_value = old_value + self.learning_rate * (reward + self.discount_factor * next_max - old_value)\n",
    "        self.Q[int(current_sum), usable_ace, deck_feature, action] = new_value\n",
    "\n",
    "def get_deck_feature(card_counter):\n",
    "    running_count = 0\n",
    "    for card, info in card_counter.items():\n",
    "        if card in ['2', '3', '4', '5', '6']:\n",
    "            running_count += info['curr_count']\n",
    "        elif card in ['10', 'J', 'Q', 'K', 'A']:\n",
    "            running_count -= info['curr_count']\n",
    "\n",
    "    if running_count <= -20:\n",
    "        return 0  # Low count\n",
    "    elif running_count <= 0:\n",
    "        return 1  # Neutral\n",
    "    else:\n",
    "        return 2  # High count\n",
    "\n"
   ]
  },
  {
   "cell_type": "code",
   "execution_count": 64,
   "id": "97e70096-057a-4e06-92f7-94c998e71069",
   "metadata": {
    "tags": []
   },
   "outputs": [
    {
     "name": "stderr",
     "output_type": "stream",
     "text": [
      "100%|████████████████████████████████████████████████████████████████| 100000000/100000000 [12:56<00:00, 128738.10it/s]\n"
     ]
    }
   ],
   "source": [
    "# Example usage\n",
    "num_states = 22  # 1 to 21 for card sum, and an additional state for bust\n",
    "num_deck_features = 3  # Categories: Low, Neutral, High\n",
    "num_actions = 2  # Actions: 0 for stick, 1 for hit\n",
    "agent = BlackjackQLearningAgent(num_states, num_deck_features, num_actions, epsilon=0.25)\n",
    "\n",
    "# Assuming you have an instance of your environment\n",
    "env = BlackJackStylised(num_decks=2)\n",
    "cards, current_sum, usable_ace, hand_complete = env.reset_init(hard=True)\n",
    "\n",
    "for episode in tqdm(range(100000000)):\n",
    "    deck_feature = get_deck_feature(env.card_counter)\n",
    "    state = (int(current_sum-1), int(usable_ace), deck_feature)\n",
    "    done = hand_complete\n",
    "\n",
    "    while not done:\n",
    "        action = agent.choose_action(state)\n",
    "        next_cards, next_sum, next_usable_ace, hand_complete = env.step(action)\n",
    "        next_deck_feature = get_deck_feature(env.card_counter)\n",
    "        next_state = (next_sum, int(next_usable_ace), next_deck_feature)\n",
    "        # reward = -1 if next_sum > 21 else 0  # Define your reward strategy\n",
    "        reward = quadratic_scorer(next_sum)\n",
    "        agent.update(state, action, reward, next_state, hand_complete)\n",
    "        state = next_state\n",
    "        done = hand_complete\n",
    "        \n",
    "    cards, current_sum, usable_ace, hand_complete = env.reset_init()\n"
   ]
  },
  {
   "cell_type": "code",
   "execution_count": 53,
   "id": "46fb7420-2528-4554-890c-ae9c5e3ebfeb",
   "metadata": {
    "collapsed": true,
    "jupyter": {
     "outputs_hidden": true
    },
    "tags": []
   },
   "outputs": [
    {
     "data": {
      "text/plain": [
       "array([[[[  0.        ,   0.        ],\n",
       "         [  0.        ,   0.        ],\n",
       "         [  0.        ,   0.        ]],\n",
       "\n",
       "        [[  0.        ,   0.        ],\n",
       "         [  0.        ,   0.        ],\n",
       "         [  0.        ,   0.        ]]],\n",
       "\n",
       "\n",
       "       [[[  0.        ,   0.        ],\n",
       "         [  0.76      ,   0.        ],\n",
       "         [  0.76      ,   0.        ]],\n",
       "\n",
       "        [[  0.        ,   0.        ],\n",
       "         [  0.        ,   0.        ],\n",
       "         [  0.        ,   0.        ]]],\n",
       "\n",
       "\n",
       "       [[[  0.        ,   0.        ],\n",
       "         [  0.9       ,   4.041     ],\n",
       "         [  3.0951    ,   0.        ]],\n",
       "\n",
       "        [[  0.        ,   0.        ],\n",
       "         [  0.        ,   0.        ],\n",
       "         [  0.        ,   0.        ]]],\n",
       "\n",
       "\n",
       "       [[[  0.        ,   0.        ],\n",
       "         [  1.6       ,  22.9216    ],\n",
       "         [  4.336     ,   0.        ]],\n",
       "\n",
       "        [[  0.        ,   0.        ],\n",
       "         [  0.        ,   0.        ],\n",
       "         [  0.        ,   0.        ]]],\n",
       "\n",
       "\n",
       "       [[[  0.        ,   0.        ],\n",
       "         [  4.75      ,   0.        ],\n",
       "         [  6.775     ,  22.5       ]],\n",
       "\n",
       "        [[  0.        ,   0.        ],\n",
       "         [  0.        ,   0.        ],\n",
       "         [  0.        ,   0.        ]]],\n",
       "\n",
       "\n",
       "       [[[  0.        ,   0.        ],\n",
       "         [  9.756     ,  31.41559   ],\n",
       "         [  6.84      ,   0.        ]],\n",
       "\n",
       "        [[  0.        ,   0.        ],\n",
       "         [  0.        ,   0.        ],\n",
       "         [  0.        ,   0.        ]]],\n",
       "\n",
       "\n",
       "       [[[  0.        ,   0.        ],\n",
       "         [ 22.106461  ,  10.        ],\n",
       "         [  0.        ,   0.        ]],\n",
       "\n",
       "        [[  0.        ,   0.        ],\n",
       "         [  0.        ,   0.        ],\n",
       "         [  0.        ,   0.        ]]],\n",
       "\n",
       "\n",
       "       [[[  0.        ,   0.        ],\n",
       "         [ 17.344     ,   0.        ],\n",
       "         [ 22.0096    ,   0.        ]],\n",
       "\n",
       "        [[  0.        ,   0.        ],\n",
       "         [  0.        ,   0.        ],\n",
       "         [  0.        ,   0.        ]]],\n",
       "\n",
       "\n",
       "       [[[  0.        ,   0.        ],\n",
       "         [ 31.64031   ,   0.        ],\n",
       "         [ 27.8559    ,   0.        ]],\n",
       "\n",
       "        [[  0.        ,   0.        ],\n",
       "         [  0.        ,   0.        ],\n",
       "         [  0.        ,   0.        ]]],\n",
       "\n",
       "\n",
       "       [[[  0.        ,   0.        ],\n",
       "         [ 32.49      , 174.995698  ],\n",
       "         [ 74.58134172,  40.        ]],\n",
       "\n",
       "        [[  0.        ,   0.        ],\n",
       "         [  0.        ,   0.        ],\n",
       "         [  0.        ,   0.        ]]],\n",
       "\n",
       "\n",
       "       [[[  0.        ,   0.        ],\n",
       "         [ 10.        ,   0.        ],\n",
       "         [  0.        ,   0.        ]],\n",
       "\n",
       "        [[  0.        ,   0.        ],\n",
       "         [  0.        , 106.9639    ],\n",
       "         [ 41.6119    ,   0.        ]]],\n",
       "\n",
       "\n",
       "       [[[  0.        ,   0.        ],\n",
       "         [ 12.1       ,   0.        ],\n",
       "         [  0.        ,   0.        ]],\n",
       "\n",
       "        [[  0.        ,   0.        ],\n",
       "         [  0.        ,   0.        ],\n",
       "         [  0.        ,   0.        ]]],\n",
       "\n",
       "\n",
       "       [[[  0.        ,   0.        ],\n",
       "         [ 14.4       ,   0.        ],\n",
       "         [  0.        ,   0.        ]],\n",
       "\n",
       "        [[  0.        ,   0.        ],\n",
       "         [  0.        ,   0.        ],\n",
       "         [  0.        ,   0.        ]]],\n",
       "\n",
       "\n",
       "       [[[  0.        ,   0.        ],\n",
       "         [  0.        ,   0.        ],\n",
       "         [  0.        ,   0.        ]],\n",
       "\n",
       "        [[  0.        ,   0.        ],\n",
       "         [ 16.9       ,   0.        ],\n",
       "         [  0.        ,   0.        ]]],\n",
       "\n",
       "\n",
       "       [[[  0.        ,   0.        ],\n",
       "         [  0.        ,   0.        ],\n",
       "         [  0.        ,   0.        ]],\n",
       "\n",
       "        [[  0.        ,   0.        ],\n",
       "         [  0.        ,   0.        ],\n",
       "         [  0.        ,   0.        ]]],\n",
       "\n",
       "\n",
       "       [[[  0.        ,   0.        ],\n",
       "         [  0.        ,   0.        ],\n",
       "         [ 22.5       ,   0.        ]],\n",
       "\n",
       "        [[  0.        ,   0.        ],\n",
       "         [  0.        ,  40.        ],\n",
       "         [  0.        ,   0.        ]]],\n",
       "\n",
       "\n",
       "       [[[  0.        ,   0.        ],\n",
       "         [ 25.6       ,  32.4       ],\n",
       "         [  0.        ,   0.        ]],\n",
       "\n",
       "        [[  0.        ,   0.        ],\n",
       "         [  0.        ,   0.        ],\n",
       "         [  0.        ,   0.        ]]],\n",
       "\n",
       "\n",
       "       [[[  0.        ,   0.        ],\n",
       "         [ 28.9       ,   0.        ],\n",
       "         [  0.        ,   0.        ]],\n",
       "\n",
       "        [[  0.        ,   0.        ],\n",
       "         [  0.        ,   0.        ],\n",
       "         [  0.        ,   0.        ]]],\n",
       "\n",
       "\n",
       "       [[[  0.        ,   0.        ],\n",
       "         [ 32.4       ,   0.        ],\n",
       "         [  0.        ,   0.        ]],\n",
       "\n",
       "        [[  0.        ,   0.        ],\n",
       "         [  0.        ,   0.        ],\n",
       "         [  0.        ,   0.        ]]],\n",
       "\n",
       "\n",
       "       [[[  0.        ,   0.        ],\n",
       "         [  0.        ,   0.        ],\n",
       "         [  0.        ,   0.        ]],\n",
       "\n",
       "        [[  0.        ,   0.        ],\n",
       "         [  0.        ,   0.        ],\n",
       "         [  0.        ,   0.        ]]],\n",
       "\n",
       "\n",
       "       [[[  0.        ,   0.        ],\n",
       "         [ 76.        ,   0.        ],\n",
       "         [ 76.        ,   0.        ]],\n",
       "\n",
       "        [[  0.        ,   0.        ],\n",
       "         [ 40.        ,   0.        ],\n",
       "         [  0.        ,   0.        ]]],\n",
       "\n",
       "\n",
       "       [[[  0.        ,   0.        ],\n",
       "         [  0.        ,   0.        ],\n",
       "         [  0.        ,   0.        ]],\n",
       "\n",
       "        [[  0.        ,   0.        ],\n",
       "         [ 44.1       ,   0.        ],\n",
       "         [ 44.1       ,   0.        ]]]])"
      ]
     },
     "execution_count": 53,
     "metadata": {},
     "output_type": "execute_result"
    }
   ],
   "source": [
    "agent.Q"
   ]
  },
  {
   "cell_type": "code",
   "execution_count": 65,
   "id": "ea23b3e8-4267-442e-98a9-1b183bcd565b",
   "metadata": {},
   "outputs": [
    {
     "data": {
      "text/plain": [
       "array([1.6, 1.6])"
      ]
     },
     "execution_count": 65,
     "metadata": {},
     "output_type": "execute_result"
    }
   ],
   "source": [
    "agent.Q[state[0], state[1], state[2]]"
   ]
  },
  {
   "cell_type": "code",
   "execution_count": 61,
   "id": "e1dc98b6-6a54-40f9-adbe-eb5707f6317d",
   "metadata": {},
   "outputs": [],
   "source": [
    "import matplotlib.pyplot as plt\n",
    "\n",
    "def plot_q_values(agent, usable_ace, deck_feature_representative=0):\n",
    "    x = range(1, 22)  # Assuming current_sum ranges from 1 to 21\n",
    "\n",
    "    q_stick = [agent.Q[sum_val - 1, int(usable_ace), deck_feature_representative, 0] for sum_val in x]\n",
    "    q_hit = [agent.Q[sum_val - 1, int(usable_ace), deck_feature_representative, 1] for sum_val in x]\n",
    "\n",
    "    fig, ax = plt.subplots()\n",
    "\n",
    "    bar_width = 0.35\n",
    "    bar_stick = [i - bar_width / 2 for i in x]\n",
    "    bar_hit = [i + bar_width / 2 for i in x]\n",
    "\n",
    "    ax.bar(bar_stick, q_stick, bar_width, label='Stick')\n",
    "    ax.bar(bar_hit, q_hit, bar_width, label='Hit')\n",
    "\n",
    "    ax.set_xlabel('Current Sum')\n",
    "    ax.set_ylabel('Q-Value')\n",
    "    ax.set_title('Q-values with Usable Ace' if usable_ace else 'Q-values with Unusable Ace')\n",
    "    ax.set_xticks(x)\n",
    "    ax.set_xticklabels(x)\n",
    "    ax.legend()\n",
    "\n",
    "    plt.show()\n",
    "\n",
    "# Example usage with your agent\n",
    "# plot_q_values(your_agent, usable_ace=True, deck_feature_representative=0)  # For usable ace\n",
    "# plot_q_values(your_agent, usable_ace=False, deck_feature_representative=0) # For unusable ace\n"
   ]
  },
  {
   "cell_type": "code",
   "execution_count": 66,
   "id": "d3ac10fa-fffc-480c-bd3d-fdf770d2d59e",
   "metadata": {},
   "outputs": [
    {
     "data": {
      "image/png": "[encoded data removed]",
      "text/plain": [
       "<Figure size 432x288 with 1 Axes>"
      ]
     },
     "metadata": {
      "needs_background": "light"
     },
     "output_type": "display_data"
    },
    {
     "data": {
      "image/png": "[encoded data removed]",
      "text/plain": [
       "<Figure size 432x288 with 1 Axes>"
      ]
     },
     "metadata": {
      "needs_background": "light"
     },
     "output_type": "display_data"
    }
   ],
   "source": [
    "plot_q_values(agent, usable_ace=True, deck_feature_representative=1)  # For usable ace\n",
    "plot_q_values(agent, usable_ace=False, deck_feature_representative=1) # For unusable ace"
   ]
  },
  {
   "cell_type": "code",
   "execution_count": 67,
   "id": "9f1334f5-ba56-4012-a49f-c6e1d29560d4",
   "metadata": {},
   "outputs": [
    {
     "data": {
      "image/png": "[encoded data removed]",
      "text/plain": [
       "<Figure size 432x288 with 1 Axes>"
      ]
     },
     "metadata": {
      "needs_background": "light"
     },
     "output_type": "display_data"
    },
    {
     "data": {
      "image/png": "[encoded data removed]",
      "text/plain": [
       "<Figure size 432x288 with 1 Axes>"
      ]
     },
     "metadata": {
      "needs_background": "light"
     },
     "output_type": "display_data"
    }
   ],
   "source": [
    "plot_q_values(agent, usable_ace=True, deck_feature_representative=2)  # For usable ace\n",
    "plot_q_values(agent, usable_ace=False, deck_feature_representative=2) # For unusable ace"
   ]
  },
  {
   "cell_type": "code",
   "execution_count": 68,
   "id": "07370aa7-ad10-44a7-b764-f615e69d8b46",
   "metadata": {},
   "outputs": [
    {
     "data": {
      "image/png": "[encoded data removed]",
      "text/plain": [
       "<Figure size 432x288 with 1 Axes>"
      ]
     },
     "metadata": {
      "needs_background": "light"
     },
     "output_type": "display_data"
    },
    {
     "data": {
      "image/png": "[encoded data removed]",
      "text/plain": [
       "<Figure size 432x288 with 1 Axes>"
      ]
     },
     "metadata": {
      "needs_background": "light"
     },
     "output_type": "display_data"
    }
   ],
   "source": [
    "plot_q_values(agent, usable_ace=True, deck_feature_representative=0)  # For usable ace\n",
    "plot_q_values(agent, usable_ace=False, deck_feature_representative=0) # For unusable ace"
   ]
  },
  {
   "cell_type": "code",
   "execution_count": null,
   "id": "22affea7-bcc7-4ec1-8a25-47e4fcd1b867",
   "metadata": {},
   "outputs": [],
   "source": [
    "plot_q_values(agent, usable_ace=True, deck_feature_representative=1)  # For usable ace\n",
    "plot_q_values(agent, usable_ace=False, deck_feature_representative=1) # For unusable ace"
   ]
  },
  {
   "cell_type": "code",
   "execution_count": 69,
   "id": "a95439e3-58ab-469b-a7fa-932a45e667d5",
   "metadata": {},
   "outputs": [
    {
     "data": {
      "text/plain": [
       "(22, 2, 3, 2)"
      ]
     },
     "execution_count": 69,
     "metadata": {},
     "output_type": "execute_result"
    }
   ],
   "source": [
    "agent.Q.shape"
   ]
  },
  {
   "cell_type": "code",
   "execution_count": null,
   "id": "c9352216-c213-4a28-b78b-da42d30fc7f0",
   "metadata": {},
   "outputs": [],
   "source": []
  }
 ],
 "metadata": {
  "kernelspec": {
   "display_name": "Python 3 (ipykernel)",
   "language": "python",
   "name": "python3"
  },
  "language_info": {
   "codemirror_mode": {
    "name": "ipython",
    "version": 3
   },
   "file_extension": ".py",
   "mimetype": "text/x-python",
   "name": "python",
   "nbconvert_exporter": "python",
   "pygments_lexer": "ipython3",
   "version": "3.9.12"
  }
 },
 "nbformat": 4,
 "nbformat_minor": 5
}

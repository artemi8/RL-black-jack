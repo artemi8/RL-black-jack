{
 "cells": [
  {
   "cell_type": "markdown",
   "id": "47b19138-fce0-4c5c-8b0c-7b3a10dae2b6",
   "metadata": {},
   "source": [
    "# Black Jack stylised environment"
   ]
  },
  {
   "cell_type": "markdown",
   "id": "bf5ebec2-908d-4990-92ee-a77e5200a84d",
   "metadata": {},
   "source": [
    "## Deck Setup \n",
    "1. Card Suits : Spades, Hearts, Diamonds and Clubs\n",
    "2. Face Cards : Kings, Queens and Jacks\n",
    "3. Ace = Aces\n",
    "4. Number cards : 2 to 10"
   ]
  },
  {
   "cell_type": "markdown",
   "id": "58621088-83ca-40eb-a941-713c119e1ded",
   "metadata": {},
   "source": [
    "# Card value setup\n",
    "\n",
    "1. Face cards : 10\n",
    "2. Ace : 11 if bust 1\n",
    "3. Number : Numerical value equal to their number"
   ]
  },
  {
   "cell_type": "code",
   "execution_count": 1,
   "id": "46d7b532-28b0-4560-91ff-5d6246854346",
   "metadata": {},
   "outputs": [],
   "source": [
    "import numpy as np\n",
    "import random\n",
    "\n",
    "from utils.blackjack_env_builder import BlackJackStylised"
   ]
  },
  {
   "cell_type": "code",
   "execution_count": 2,
   "id": "88b04f6e-d9e7-40b3-956a-5f31c4c665b9",
   "metadata": {},
   "outputs": [],
   "source": [
    "env = BlackJackStylised(num_decks=2)"
   ]
  },
  {
   "cell_type": "code",
   "execution_count": 21,
   "id": "93ba54bf-0211-405c-84fe-f90f307fdb1e",
   "metadata": {},
   "outputs": [
    {
     "data": {
      "text/plain": [
       "(['D.A'], 11.0, True, False)"
      ]
     },
     "execution_count": 21,
     "metadata": {},
     "output_type": "execute_result"
    }
   ],
   "source": [
    "env.reset_init(hard=True)"
   ]
  },
  {
   "cell_type": "code",
   "execution_count": 23,
   "id": "325bc3ef-a174-4228-a839-1c71d5b61d17",
   "metadata": {},
   "outputs": [
    {
     "data": {
      "text/plain": [
       "(['D.A', 'H.9', 'D.8'], 18.0, False, False)"
      ]
     },
     "execution_count": 23,
     "metadata": {},
     "output_type": "execute_result"
    }
   ],
   "source": [
    "env.step(1)"
   ]
  },
  {
   "cell_type": "code",
   "execution_count": 4,
   "id": "00a8d92b-6fe5-4493-8c58-c21483baf227",
   "metadata": {},
   "outputs": [
    {
     "data": {
      "text/plain": [
       "20.0"
      ]
     },
     "execution_count": 4,
     "metadata": {},
     "output_type": "execute_result"
    }
   ],
   "source": [
    "env.get_card_value(['H.A', 'H.8', 'H.A'])"
   ]
  },
  {
   "cell_type": "code",
   "execution_count": 9,
   "id": "47aa755e-2d01-4e1b-b214-ea7b5d19f0d9",
   "metadata": {},
   "outputs": [
    {
     "data": {
      "text/plain": [
       "{'K': {'curr_count': 7, 'total': 8},\n",
       " 'Q': {'curr_count': 8, 'total': 8},\n",
       " 'J': {'curr_count': 6, 'total': 8},\n",
       " 'A': {'curr_count': 8, 'total': 8},\n",
       " '2': {'curr_count': 8, 'total': 8},\n",
       " '3': {'curr_count': 8, 'total': 8},\n",
       " '4': {'curr_count': 7, 'total': 8},\n",
       " '5': {'curr_count': 7, 'total': 8},\n",
       " '6': {'curr_count': 6, 'total': 8},\n",
       " '7': {'curr_count': 7, 'total': 8},\n",
       " '8': {'curr_count': 8, 'total': 8},\n",
       " '9': {'curr_count': 8, 'total': 8},\n",
       " '10': {'curr_count': 7, 'total': 8}}"
      ]
     },
     "execution_count": 9,
     "metadata": {},
     "output_type": "execute_result"
    }
   ],
   "source": [
    "env.card_counter"
   ]
  },
  {
   "cell_type": "code",
   "execution_count": 10,
   "id": "368d9c79-9dcd-4d8e-8bae-c093a6f4daa7",
   "metadata": {},
   "outputs": [
    {
     "name": "stdout",
     "output_type": "stream",
     "text": [
      "\n"
     ]
    }
   ],
   "source": [
    "print()"
   ]
  },
  {
   "cell_type": "code",
   "execution_count": null,
   "id": "c59c8694-d051-40a7-b09c-dd000f65c7bb",
   "metadata": {},
   "outputs": [],
   "source": [
    "1.   initialize current_sum\n",
    "2.   check the ace game:\n",
    "\n",
    "      Example:\n",
    "      (['H.A', 'D.4'], 5, False, False)\n",
    "    Remaining Cards:  28\n",
    "    (['H.A', 'D.4', 'H.3'], 18, True, False)\n",
    "    (['H.A', 'D.4', 'H.3', 'S.A'], 9, False, False)\n",
    "    Player is bust total sum is greater than 21!\n",
    "    (['H.A', 'D.4', 'H.3', 'S.A', 'S.2'], 31, True, True)\n",
    "    -----------------------------------------------------\n",
    "    (['D.A', 'S.5'], 6, False, False)\n",
    "    Remaining Cards:  23\n",
    "    Player is bust total sum is greater than 21!\n",
    "    (['D.A', 'S.5', 'D.10'], 26, True, True)    \n",
    "    -----------------------------------------------------  \n",
    "\n",
    "\n",
    "3. Only one card is dealt instead of 2.\n",
    "    A hand represents one cycle of the game through the following sequence\n",
    "    of steps:\n",
    "    1. A card is dealt. We call its numerical value C1.......\n",
    "\n",
    "4. How to handle the final hand when <2 cards are left?"
   ]
  },
  {
   "cell_type": "code",
   "execution_count": null,
   "id": "88a8b7dd-b726-4f78-96c5-59f4f57cc5ab",
   "metadata": {},
   "outputs": [],
   "source": []
  }
 ],
 "metadata": {
  "kernelspec": {
   "display_name": "Python 3 (ipykernel)",
   "language": "python",
   "name": "python3"
  },
  "language_info": {
   "codemirror_mode": {
    "name": "ipython",
    "version": 3
   },
   "file_extension": ".py",
   "mimetype": "text/x-python",
   "name": "python",
   "nbconvert_exporter": "python",
   "pygments_lexer": "ipython3",
   "version": "3.9.12"
  }
 },
 "nbformat": 4,
 "nbformat_minor": 5
}

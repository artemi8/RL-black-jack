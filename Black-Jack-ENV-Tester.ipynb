{
 "cells": [
  {
   "cell_type": "code",
   "execution_count": 77,
   "id": "46d7b532-28b0-4560-91ff-5d6246854346",
   "metadata": {},
   "outputs": [],
   "source": [
    "import numpy as np\n",
    "import random\n",
    "\n",
    "from utils.blackjack_env_builder import BlackJackStylised"
   ]
  },
  {
   "cell_type": "markdown",
   "id": "47b19138-fce0-4c5c-8b0c-7b3a10dae2b6",
   "metadata": {},
   "source": [
    "# Black Jack stylised environment"
   ]
  },
  {
   "cell_type": "markdown",
   "id": "bf5ebec2-908d-4990-92ee-a77e5200a84d",
   "metadata": {},
   "source": [
    "## Deck Setup \n",
    "1. Card Suits : Spades, Hearts, Diamonds and Clubs\n",
    "2. Face Cards : Kings, Queens and Jacks\n",
    "3. Ace = Aces\n",
    "4. Number cards : 2 to 10"
   ]
  },
  {
   "cell_type": "markdown",
   "id": "58621088-83ca-40eb-a941-713c119e1ded",
   "metadata": {},
   "source": [
    "# Card value setup\n",
    "\n",
    "1. Face cards : 10\n",
    "2. Ace : 11 if bust 1\n",
    "3. Number : Numerical value equal to their number"
   ]
  },
  {
   "cell_type": "code",
   "execution_count": 16,
   "id": "f4296035-31bd-4894-bf57-6aeb5eb1c1bb",
   "metadata": {},
   "outputs": [
    {
     "data": {
      "text/plain": [
       "(['A', 'K', 'Q', 'J', '2', '3', '4', '5', '6', '7', '8', '9', '10'], 13)"
      ]
     },
     "execution_count": 16,
     "metadata": {},
     "output_type": "execute_result"
    }
   ],
   "source": [
    "suitless_group, len(suitless_group)"
   ]
  },
  {
   "cell_type": "code",
   "execution_count": 87,
   "id": "88b04f6e-d9e7-40b3-956a-5f31c4c665b9",
   "metadata": {},
   "outputs": [],
   "source": [
    "env = BlackJackStylised(num_decks=2)"
   ]
  },
  {
   "cell_type": "code",
   "execution_count": 88,
   "id": "93ba54bf-0211-405c-84fe-f90f307fdb1e",
   "metadata": {},
   "outputs": [
    {
     "data": {
      "text/plain": [
       "(['C.A', 'S.K'], 11, False, False)"
      ]
     },
     "execution_count": 88,
     "metadata": {},
     "output_type": "execute_result"
    }
   ],
   "source": [
    "env.reset_init()"
   ]
  },
  {
   "cell_type": "code",
   "execution_count": 89,
   "id": "325bc3ef-a174-4228-a839-1c71d5b61d17",
   "metadata": {},
   "outputs": [
    {
     "data": {
      "text/plain": [
       "(['C.A', 'S.K', 'S.9'], 20, False, False)"
      ]
     },
     "execution_count": 89,
     "metadata": {},
     "output_type": "execute_result"
    }
   ],
   "source": [
    "env.step(1)"
   ]
  },
  {
   "cell_type": "code",
   "execution_count": 90,
   "id": "47aa755e-2d01-4e1b-b214-ea7b5d19f0d9",
   "metadata": {},
   "outputs": [
    {
     "data": {
      "text/plain": [
       "{'K': {'curr_count': 1, 'total': 2},\n",
       " 'Q': {'curr_count': 2, 'total': 2},\n",
       " 'J': {'curr_count': 2, 'total': 2},\n",
       " 'A': {'curr_count': 1, 'total': 2},\n",
       " '2': {'curr_count': 2, 'total': 2},\n",
       " '3': {'curr_count': 2, 'total': 2},\n",
       " '4': {'curr_count': 2, 'total': 2},\n",
       " '5': {'curr_count': 1, 'total': 2},\n",
       " '6': {'curr_count': 2, 'total': 2},\n",
       " '7': {'curr_count': 2, 'total': 2},\n",
       " '8': {'curr_count': 2, 'total': 2},\n",
       " '9': {'curr_count': 0, 'total': 2},\n",
       " '10': {'curr_count': 2, 'total': 2}}"
      ]
     },
     "execution_count": 90,
     "metadata": {},
     "output_type": "execute_result"
    }
   ],
   "source": [
    "env.card_counter"
   ]
  },
  {
   "cell_type": "code",
   "execution_count": null,
   "id": "368d9c79-9dcd-4d8e-8bae-c093a6f4daa7",
   "metadata": {},
   "outputs": [],
   "source": []
  },
  {
   "cell_type": "code",
   "execution_count": null,
   "id": "c59c8694-d051-40a7-b09c-dd000f65c7bb",
   "metadata": {},
   "outputs": [],
   "source": []
  }
 ],
 "metadata": {
  "kernelspec": {
   "display_name": "Python 3 (ipykernel)",
   "language": "python",
   "name": "python3"
  },
  "language_info": {
   "codemirror_mode": {
    "name": "ipython",
    "version": 3
   },
   "file_extension": ".py",
   "mimetype": "text/x-python",
   "name": "python",
   "nbconvert_exporter": "python",
   "pygments_lexer": "ipython3",
   "version": "3.9.12"
  }
 },
 "nbformat": 4,
 "nbformat_minor": 5
}

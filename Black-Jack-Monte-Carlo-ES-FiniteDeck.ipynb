{
 "cells": [
  {
   "cell_type": "markdown",
   "id": "47b19138-fce0-4c5c-8b0c-7b3a10dae2b6",
   "metadata": {},
   "source": [
    "# Black Jack stylised environment"
   ]
  },
  {
   "cell_type": "markdown",
   "id": "bf5ebec2-908d-4990-92ee-a77e5200a84d",
   "metadata": {},
   "source": [
    "## Deck Setup \n",
    "1. Card Suits : Spades, Hearts, Diamonds and Clubs\n",
    "2. Face Cards : Kings, Queens and Jacks\n",
    "3. Ace = Aces\n",
    "4. Number cards : 2 to 10"
   ]
  },
  {
   "cell_type": "markdown",
   "id": "58621088-83ca-40eb-a941-713c119e1ded",
   "metadata": {},
   "source": [
    "# Card value setup\n",
    "\n",
    "1. Face cards : 10\n",
    "2. Ace : 11 if bust 1\n",
    "3. Number : Numerical value equal to their number"
   ]
  },
  {
   "cell_type": "markdown",
   "id": "2366465d-f8ec-4a54-96c0-38e774232020",
   "metadata": {},
   "source": [
    "# Reward Function\n",
    "\n",
    "![Cost function](images/cost_function.png)"
   ]
  },
  {
   "cell_type": "markdown",
   "id": "b7da79b1-f02b-4d9c-91b9-2b713dfb30a4",
   "metadata": {},
   "source": [
    "## Doubts\n",
    "1. When calculating the score for the hand, when there is unusable ace, should be count that as 1 or 11?\n",
    "2. How do we score and end the game when there is only one last card left in the deck and still the agent wants to stick?\n",
    "4. How do I make reward after each state and action, question seems to give reward only after a hand is finished?\n",
    "    1. *The reward in this game is sparse, as we only know how to label the last state in a hand with a reward. Think back to how the rewards are assigned in the chess example in the lectures - we give a non-zero reward at the end for a win/lose outcome and 0 otherwise for all other transitions.*\n",
    "5. MonteCarloES already achieves good result (That's what we think), verify it, if it is really the optimal result. And what would be be improving if we incorporated changing environment and using function approximation methods or policy gradient methods.\n"
   ]
  },
  {
   "cell_type": "markdown",
   "id": "0c44972e-0f91-45de-ba88-29af7d29beb5",
   "metadata": {},
   "source": [
    "# TODO\n",
    "1. Run variations iteration and find the nth iteration when the agent's q values shows minimal change to tell when the agent reached a optimal policy\n",
    "2. Find other plots like training error, rewards throughout the iterations\n",
    "3. Add Usable ace in the state\n",
    "4. <font color='red'> Consideration changing environment in the agent algorithm, if not suitable for MonteCarloES, try to implement another algorithm which might helps achieve that </font>"
   ]
  },
  {
   "cell_type": "markdown",
   "id": "e226da6e-5362-49ef-9923-a84c69c5cfe0",
   "metadata": {},
   "source": [
    "# <font color='orange'>Inferences</font>\n",
    "\n",
    "1. Tendency to stick increases at an early point of time (in terms of sum of the hand as state) with decrease in Gamma value"
   ]
  },
  {
   "cell_type": "code",
   "execution_count": 3,
   "id": "46d7b532-28b0-4560-91ff-5d6246854346",
   "metadata": {},
   "outputs": [],
   "source": [
    "import numpy as np\n",
    "import random\n",
    "\n",
    "from utils.blackjack_env_builder import BlackJackStylised\n",
    "from utils.scorer import Scorer, quadratic_scorer\n",
    "from utils.evaluator import evaluate_agent\n",
    "\n",
    "from tqdm import tqdm\n",
    "from matplotlib import pyplot as plt\n",
    "from utils.general import plot_monte_carlo_q_values"
   ]
  },
  {
   "cell_type": "code",
   "execution_count": 51,
   "id": "c59c8694-d051-40a7-b09c-dd000f65c7bb",
   "metadata": {},
   "outputs": [],
   "source": [
    "class MonteCarloES:\n",
    "    '''\n",
    "    Monte Carlo Exploring starts algorithm\n",
    "    '''\n",
    "    \n",
    "    # TODO Print the number of states and actions along with the defined init_configurations\n",
    "    def __init__(self, init_config:dict, actions, verbose=False, epsilon_decay=False,\n",
    "                 epsilon_decay_param={\"min_epsilon\":0.05, \"max_epsilon\":0, \"decay_factor\":0.0005}): \n",
    "        \n",
    "        self.actions = actions\n",
    "        self.init_config = init_config\n",
    "        self.epsilon_decay_param = epsilon_decay_param\n",
    "        if epsilon_decay:\n",
    "            self.epsilon_decay_param['max_epsilon'] = self.init_config['epsilon']\n",
    "        self.initialize_Q()\n",
    "        # self.oldQ = None\n",
    "        \n",
    "    def epsilon_greedy_policy(self, state):\n",
    "        \n",
    "        hand_sum, usable_ace = state\n",
    "        # hand_sum, usable_ace, deck_feature = state\n",
    "        if random.random() < self.init_config['epsilon']:\n",
    "            return random.choice(self.actions)\n",
    "        else:\n",
    "            ## return np.argmax(self.Q[int(current_sum), usable_ace, deck_feature])\n",
    "            return np.argmax(self.Q[int(hand_sum), usable_ace, :, 0])\n",
    "        \n",
    "\n",
    "        \n",
    "    def initialize_Q(self):\n",
    "        '''\n",
    "        Zero initialized Q values\n",
    "        '''\n",
    "        self.Q = np.zeros((len(self.init_config['states']['state_dim_1']),\n",
    "                           len(self.init_config['states']['state_dim_2']), len(self.actions), 2)) \n",
    "        \n",
    "    \n",
    "    def epsilon_decay(self, episode_num):\n",
    "        \n",
    "        if not self.epsilon_decay:\n",
    "            raise Exception('Epsion Decay is turned off!, Reinitialze the class with epsion decay flag to True')\n",
    "        min_epsilon = self.epsilon_decay_param['min_epsilon']\n",
    "        max_epsilon = self.epsilon_decay_param['max_epsilon']\n",
    "        decay_factor = self.epsilon_decay_param['decay_factor']\n",
    "        \n",
    "        self.init_config['epsilon'] = min_epsilon + (max_epsilon - min_epsilon)*np.exp(-decay_factor*episode_num) \n",
    "            \n",
    "    def _moving_average_returns(self, hand_sum, usable_ace, action, G):\n",
    "        \n",
    "        curr_val = self.Q[hand_sum][usable_ace][action][0]\n",
    "        count = self.Q[hand_sum][usable_ace][action][1]\n",
    "        \n",
    "        mov_avg = curr_val + ((G - curr_val)/count)\n",
    "        # mov_avg = (curr_val * count + G)/ count + 1 \n",
    "        \n",
    "        return mov_avg\n",
    "            \n",
    "        \n",
    "    def policy_evaluation(self, episode):\n",
    "        \n",
    "        # Starting from reverse order for policy evaluation\n",
    "        # for episode in episodes:\n",
    "        state_repeat_check = []\n",
    "        G = 0\n",
    "        for hand_sum, usable_ace, action, reward in reversed(episode):\n",
    "\n",
    "            G = self.init_config['gamma']*G + reward\n",
    "\n",
    "            if (hand_sum, usable_ace, action) not in state_repeat_check:\n",
    "                state_repeat_check.append((int(hand_sum), usable_ace, action))\n",
    "                \n",
    "                ## DEBUG\n",
    "                # if hand_sum < 10 and usable_ace:\n",
    "                #     print((hand_sum, usable_ace, action))\n",
    "                    \n",
    "                # print(self.Q.shape)\n",
    "                # print([int(hand_sum),usable_ace, action,1])\n",
    "                # print()\n",
    "                # self.oldQ = np.copy(self.Q)\n",
    "                self.Q[int(hand_sum)][usable_ace][action][1] += 1\n",
    "                self.Q[int(hand_sum)][usable_ace][action][0] = self._moving_average_returns(int(hand_sum), usable_ace, action, G)\n",
    "                \n",
    "                \n",
    "\n",
    "def has_converged(previous_Q, current_Q, threshold=0.001):\n",
    "    \n",
    "    previous_Q_temp = previous_Q[:,:,:,0].ravel()\n",
    "    current_Q_temp = current_Q[:,:,:,0].ravel()\n",
    "    # print(f' is check : {previous_Q_temp is current_Q_temp}')\n",
    "    \n",
    "    delta = np.abs(current_Q_temp - previous_Q_temp)  #np.abs(\n",
    "    # print(current_Q - previous_Q)\n",
    "    return np.sum(delta) < threshold\n",
    "\n",
    "\n",
    "def plot_q_values_(agent, offset=1, monte_carlo=False):\n",
    "    \n",
    "    \n",
    "    if monte_carlo:\n",
    "        x1 = range(2, 22)\n",
    "        q_stick1 = [agent.Q[sum_val - offset, 0, 0, 0] for sum_val in x1]\n",
    "        q_hit1 = [agent.Q[sum_val - offset, 0, 1, 0] for sum_val in x1]\n",
    "        \n",
    "        x2 = range(2, 22)\n",
    "        q_stick2 = [agent.Q[sum_val - offset, 1, 0, 0] for sum_val in x2]\n",
    "        q_hit2 = [agent.Q[sum_val - offset, 1, 1, 0] for sum_val in x2]\n",
    "    else:\n",
    "        x1 = range(1, 22)\n",
    "        q_stick1 = [agent.Q[sum_val - offset, 0, 0] for sum_val in x1]\n",
    "        q_hit1 = [agent.Q[sum_val - offset, 0, 1] for sum_val in x1]\n",
    " \n",
    "    # Set 2\n",
    "        x2 = range(1, 22)\n",
    "        q_stick2 = [agent.Q[sum_val - offset, 1, 0] for sum_val in x2]\n",
    "        q_hit2 = [agent.Q[sum_val - offset, 1, 1] for sum_val in x2]\n",
    " \n",
    "    # Plot 1\n",
    "    fig, (ax1, ax2) = plt.subplots(2, 1, figsize=(6, 5))  # 2 rows, 1 column\n",
    "    bar_width = 0.25\n",
    "    bar_stick1 = [i - bar_width / 2 for i in x1]\n",
    "    bar_hit1 = [i + bar_width / 2 for i in x1]\n",
    "    ax1.bar(bar_stick1, q_stick1, bar_width, label='Stick')\n",
    "    ax1.bar(bar_hit1, q_hit1, bar_width, label='Hit')\n",
    "    ax1.set_xlabel('Current Sum')\n",
    "    ax1.set_ylabel('Q-Value')\n",
    "    ax1.set_title('Without Usable Ace')\n",
    "    ax1.set_xticks(x1)\n",
    "    ax1.set_xticklabels(x1)\n",
    "    ax1.legend()\n",
    " \n",
    "    # Plot 2\n",
    "    bar_stick2 = [i - bar_width / 2 for i in x2]\n",
    "    bar_hit2 = [i + bar_width / 2 for i in x2]\n",
    "    ax2.bar(bar_stick2, q_stick2, bar_width, label='Stick')\n",
    "    ax2.bar(bar_hit2, q_hit2, bar_width, label='Hit')\n",
    "    ax2.set_xlabel('Current Sum')\n",
    "    ax2.set_ylabel('Q-Value')\n",
    "    ax2.set_title('With Usable Ace')\n",
    "    ax2.set_xticks(x2)\n",
    "    ax2.set_xticklabels(x2)\n",
    "    ax2.legend()\n",
    " \n",
    "    plt.tight_layout()  # Ensures subplots do not overlap\n",
    "    plt.show()\n",
    "            "
   ]
  },
  {
   "cell_type": "markdown",
   "id": "6d8b7225-528f-4ff8-9b42-d2147f2ac5a5",
   "metadata": {},
   "source": [
    "## For finite Decks"
   ]
  },
  {
   "cell_type": "code",
   "execution_count": 52,
   "id": "bacbec9f-1296-431e-9497-164866027799",
   "metadata": {},
   "outputs": [],
   "source": [
    "env = BlackJackStylised(num_decks=3)"
   ]
  },
  {
   "cell_type": "code",
   "execution_count": 53,
   "id": "88a8b7dd-b726-4f78-96c5-59f4f57cc5ab",
   "metadata": {},
   "outputs": [],
   "source": [
    "init_config= {'init_state_action_val': 0,\n",
    "              'epsilon' : 0.25,\n",
    "              'gamma' : 0.75,\n",
    "              'states' : {'state_dim_1':list(range(2, 23)),\n",
    "                          'state_dim_2': [0,1]}}\n",
    "agent_v1 = MonteCarloES(init_config=init_config, actions=[0, 1], epsilon_decay=True)"
   ]
  },
  {
   "cell_type": "code",
   "execution_count": 54,
   "id": "4c2e7ad6-9c7d-48b9-9292-25bfa4e048ca",
   "metadata": {
    "tags": []
   },
   "outputs": [
    {
     "name": "stderr",
     "output_type": "stream",
     "text": [
      "100%|█████████████████████████████████████████████████████████████████████████| 100000/100000 [05:04<00:00, 328.66it/s]\n"
     ]
    }
   ],
   "source": [
    "# cards, curr_sum, usable_ace, hand_complete = env.reset_init(hard=True)\n",
    "total_episodes = 100000\n",
    "episode_break_flag = True\n",
    "\n",
    "# Offset to account for Q-value array indexing\n",
    "sum_offset = 2\n",
    "\n",
    "# DEBUG variables\n",
    "break_bool = False\n",
    "converge_flag = False\n",
    "# episodes = []\n",
    "for i in tqdm(list(range(total_episodes))):\n",
    "    episode = []\n",
    "    episode_break_flag = True\n",
    "    cards, curr_sum, usable_ace, hand_complete = env.reset_init(hard=True)\n",
    "    curr_sum -= sum_offset \n",
    "    \n",
    "    if not hand_complete:\n",
    "        while episode_break_flag:\n",
    "            action = agent_v1.epsilon_greedy_policy((curr_sum, int(usable_ace)))\n",
    "            # print(action)\n",
    "            cards, new_sum, new_usable_ace, hand_complete = env.step(action)\n",
    "\n",
    "\n",
    "            if new_sum > 21 or hand_complete == True:\n",
    "                \n",
    "                reward = quadratic_scorer(new_sum)\n",
    "                \n",
    "                episode.append([curr_sum, int(usable_ace), action, reward])\n",
    "                curr_sum = new_sum\n",
    "                \n",
    "                if env.deck_complete:\n",
    "                    episode_break_flag = False\n",
    "                    break\n",
    "                    \n",
    "                cards, curr_sum, usable_ace, hand_complete = env.reset_init()\n",
    "                curr_sum -= sum_offset\n",
    "                \n",
    "                if env.deck_complete:\n",
    "                    episode_break_flag = False\n",
    "                    break\n",
    "\n",
    "                continue\n",
    "\n",
    "            reward = 0\n",
    "            episode.append([curr_sum, int(usable_ace), action, reward])\n",
    "            curr_sum = new_sum - sum_offset\n",
    "            usable_ace = new_usable_ace\n",
    "\n",
    "\n",
    "    agent_v1.policy_evaluation(episode)\n",
    "\n",
    "   \n",
    "    agent_v1.epsilon_decay(i)"
   ]
  },
  {
   "cell_type": "code",
   "execution_count": 59,
   "id": "a35db057-191d-4107-9afb-499f2bd7b35a",
   "metadata": {},
   "outputs": [
    {
     "name": "stderr",
     "output_type": "stream",
     "text": [
      "100%|██████████████████████████████████████████████████████████████████████████| 10000/10000 [00:08<00:00, 1111.47it/s]\n"
     ]
    },
    {
     "data": {
      "text/plain": [
       "(62.0155, 39.195883199004456)"
      ]
     },
     "execution_count": 59,
     "metadata": {},
     "output_type": "execute_result"
    }
   ],
   "source": [
    "evaluate_agent(n_eval_episodes=10000, Q=agent_v1.Q, num_decks=4, offset=2)"
   ]
  },
  {
   "cell_type": "code",
   "execution_count": 57,
   "id": "49ede70f-4aaa-4443-80b1-490d241b45db",
   "metadata": {},
   "outputs": [
    {
     "data": {
      "image/png": "[encoded data removed]",
      "text/plain": [
       "<Figure size 432x360 with 2 Axes>"
      ]
     },
     "metadata": {
      "needs_background": "light"
     },
     "output_type": "display_data"
    }
   ],
   "source": [
    "plot_q_values_(agent_v1, offset=2, monte_carlo=True)"
   ]
  },
  {
   "cell_type": "code",
   "execution_count": 23,
   "id": "93fe3b9f-5b04-4e69-a053-5e5250c8853a",
   "metadata": {},
   "outputs": [
    {
     "data": {
      "text/plain": [
       "(21, 2, 2, 2)"
      ]
     },
     "execution_count": 23,
     "metadata": {},
     "output_type": "execute_result"
    }
   ],
   "source": [
    "agent_v1.Q.shape"
   ]
  },
  {
   "cell_type": "code",
   "execution_count": 34,
   "id": "944c20df-dd0c-4079-a004-5520b4ab56a9",
   "metadata": {},
   "outputs": [],
   "source": [
    "def evaluate_agent(n_eval_episodes, Q, num_decks=None, offset=1):\n",
    "  # Assuming you have an instance of your environment\n",
    "    env = BlackJackStylised(num_decks=num_decks)\n",
    "    episode_rewards = []\n",
    "#   print(Q)\n",
    "    for episode in tqdm(range(n_eval_episodes)):  \n",
    "        total_rewards_ep = 0\n",
    "        cards, current_sum, usable_ace, hand_complete = env.reset_init(hard=True)\n",
    "        # print(env.card_counter)\n",
    "        # deck_feature = get_deck_feature(env.card_counter)\n",
    "        # print(deck_feature)\n",
    "        state = (int(current_sum-offset), int(usable_ace))\n",
    "        done = hand_complete\n",
    "        \n",
    "        if num_decks is not None:\n",
    "            while not env.deck_complete: ## 1 episode\n",
    "                while not done: ## 1 Hand\n",
    "                    if  env.deck_complete:\n",
    "                        break\n",
    "                    # print(Q)\n",
    "                    # print(int(current_sum), usable_ace)\n",
    "                    # print(Q[int(current_sum), usable_ace])\n",
    "                    action = np.argmax(Q[int(current_sum-offset), int(usable_ace)])\n",
    "                    # print(action)\n",
    "                    next_cards, next_sum, next_usable_ace, hand_complete = env.step(action)\n",
    "                    # print(next_cards)\n",
    "                    # next_deck_feature = get_deck_feature(env.card_counter)\n",
    "                    next_state = (next_sum-offset, int(next_usable_ace))\n",
    "                    reward = 0 if not hand_complete else quadratic_scorer(next_sum)\n",
    "                    # if hand_complete:\n",
    "                    #   # print(next_cards, next_sum, next_usable_ace)\n",
    "                    #   # print('Reward: ', reward) \n",
    "                    # else:\n",
    "                    #   pass\n",
    "                    state = next_state\n",
    "                    current_sum = next_sum - offset\n",
    "                    usable_ace = next_usable_ace \n",
    "                    done = hand_complete\n",
    "\n",
    "                  # print('Hand Finished')\n",
    "                cards, current_sum, usable_ace, hand_complete = env.reset_init()\n",
    "            episode_rewards.append(reward)\n",
    "        else:\n",
    "            while not done: ## 1 Hand\n",
    "                # print(Q)\n",
    "                # print(int(current_sum), usable_ace)\n",
    "                # print(Q[int(current_sum), usable_ace])\n",
    "                action = np.argmax(Q[int(current_sum-offset), int(usable_ace)])\n",
    "                # print(action)\n",
    "                next_cards, next_sum, next_usable_ace, hand_complete = env.step(action)\n",
    "                # print(next_cards)\n",
    "                # next_deck_feature = get_deck_feature(env.card_counter)\n",
    "                next_state = (next_sum-offset, int(next_usable_ace))\n",
    "                reward = 0 if not hand_complete else quadratic_scorer(next_sum)\n",
    "                # if hand_complete:\n",
    "                #   # print(next_cards, next_sum, next_usable_ace)\n",
    "                #   # print('Reward: ', reward) \n",
    "                # else:\n",
    "                #   pass\n",
    "                state = next_state\n",
    "                current_sum = next_sum - offset\n",
    "                usable_ace = next_usable_ace \n",
    "                done = hand_complete\n",
    "\n",
    "                # print('Hand Finished')\n",
    "                cards, current_sum, usable_ace, hand_complete = env.reset_init()\n",
    "            episode_rewards.append(reward)\n",
    "       \n",
    "            \n",
    "    mean_reward = np.mean(episode_rewards)\n",
    "    std_reward = np.std(episode_rewards)\n",
    "\n",
    "    return mean_reward, std_reward\n",
    "  "
   ]
  },
  {
   "cell_type": "code",
   "execution_count": 30,
   "id": "8453fe21-b6ba-4976-846c-c9f3e00bdbae",
   "metadata": {},
   "outputs": [
    {
     "name": "stderr",
     "output_type": "stream",
     "text": [
      "100%|█████████████████████████████████████████████████████████████████████████████| 1000/1000 [00:01<00:00, 935.83it/s]\n"
     ]
    },
    {
     "data": {
      "text/plain": [
       "(62.344, 39.655941093359516)"
      ]
     },
     "execution_count": 30,
     "metadata": {},
     "output_type": "execute_result"
    }
   ],
   "source": [
    "evaluate_agent(n_eval_episodes=1000, Q=agent_v1.Q, num_decks=3)"
   ]
  },
  {
   "cell_type": "code",
   "execution_count": null,
   "id": "4870dce1-bda3-4bba-a4c4-49c6182dcfc6",
   "metadata": {},
   "outputs": [],
   "source": []
  },
  {
   "cell_type": "code",
   "execution_count": null,
   "id": "93beb637-d36d-4ad2-9b69-e79e1b90c9f2",
   "metadata": {},
   "outputs": [],
   "source": [
    "with open('company_data.pkl', 'wb') as outp:\n",
    "    company1 = Company('banana', 40)\n",
    "    pickle.dump(company1, outp, pickle.HIGHEST_PROTOCOL)"
   ]
  }
 ],
 "metadata": {
  "kernelspec": {
   "display_name": "Python 3 (ipykernel)",
   "language": "python",
   "name": "python3"
  },
  "language_info": {
   "codemirror_mode": {
    "name": "ipython",
    "version": 3
   },
   "file_extension": ".py",
   "mimetype": "text/x-python",
   "name": "python",
   "nbconvert_exporter": "python",
   "pygments_lexer": "ipython3",
   "version": "3.9.12"
  }
 },
 "nbformat": 4,
 "nbformat_minor": 5
}

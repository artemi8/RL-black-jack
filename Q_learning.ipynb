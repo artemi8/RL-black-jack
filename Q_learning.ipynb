{
 "cells": [
  {
   "cell_type": "code",
   "execution_count": 1,
   "id": "31bc0c64-eb83-43ae-88af-d4b2dba652ea",
   "metadata": {
    "ExecuteTime": {
     "end_time": "2024-01-17T13:22:39.138225100Z",
     "start_time": "2024-01-17T13:22:39.131040100Z"
    }
   },
   "outputs": [],
   "source": [
    "import numpy as np\n",
    "import random\n",
    "\n",
    "from utils.blackjack_env_builder import BlackJackStylised\n",
    "from utils.scorer import Scorer, quadratic_scorer\n",
    "from utils.evaluator import evaluate_agent\n",
    "from tqdm import tqdm\n",
    "from matplotlib import pyplot as plt\n",
    "from utils.general import plot_q_values\n",
    "\n",
    "from utils.evaluator import test_q_learning_agent"
   ]
  },
  {
   "cell_type": "code",
   "execution_count": 2,
   "id": "daa2dd84-0a0f-41c3-a73d-343be765e237",
   "metadata": {
    "ExecuteTime": {
     "end_time": "2024-01-17T13:22:46.577500100Z",
     "start_time": "2024-01-17T13:22:46.526150700Z"
    }
   },
   "outputs": [],
   "source": [
    "\n",
    "\n",
    "class BlackjackQLearningAgent:\n",
    "    def __init__(self, num_states, num_actions, learning_rate=0.1, discount_factor=0.9, epsilon=0.1):\n",
    "        self.Q = np.zeros((num_states, 2, num_actions)) \n",
    "        self.learning_rate = learning_rate\n",
    "        self.discount_factor = discount_factor\n",
    "        self.epsilon = epsilon\n",
    "        self.num_actions = num_actions\n",
    "\n",
    "    def choose_action(self, state):\n",
    "        current_sum, usable_ace = state\n",
    "        if random.random() < self.epsilon:\n",
    "            return random.choice(range(self.num_actions))\n",
    "        else:\n",
    "            return np.argmax(self.Q[int(current_sum), usable_ace])\n",
    "\n",
    "    def update(self, state, action, reward, next_state, done):\n",
    "        current_sum, usable_ace = state\n",
    "        next_sum, next_usable_ace = next_state\n",
    "\n",
    "        old_value = self.Q[int(current_sum), usable_ace, action]\n",
    "        next_max = np.max(self.Q[int(next_sum), usable_ace]) if not done else 0\n",
    "\n",
    "        new_value = old_value + self.learning_rate * (reward + self.discount_factor * next_max - old_value)\n",
    "        # self.oldQ = np.copy(self.Q)\n",
    "        self.Q[int(current_sum), usable_ace, action] = new_value\n",
    "\n",
    "            \n",
    "            \n",
    "# TODO\n",
    "def get_deck_feature(card_counter):\n",
    "    \n",
    "    running_count = 0\n",
    "    for card, info in card_counter.items():\n",
    "        # print(f'card {card} info {info}')\n",
    "        if card in ['2', '3', '4', '5', '6']:\n",
    "            # print('cc', info['curr_count'])\n",
    "            running_count += info['curr_count']\n",
    "        elif card in ['10', 'J', 'Q', 'K', 'A']:\n",
    "            # print('cc', info['curr_count'])\n",
    "            running_count -= info['curr_count']\n",
    "\n",
    "    # print('running count: ', running_count)\n",
    "    if running_count <= -20:\n",
    "        return 0  # Low count\n",
    "    elif running_count <= 0:\n",
    "        return 1  # Neutral\n",
    "    else:\n",
    "        return 2  # High count\n",
    "\n",
    "def q_learning_has_converged(previous_Q, current_Q, threshold=0.001):\n",
    "    \n",
    "    previous_Q_temp = previous_Q.ravel()\n",
    "    current_Q_temp = current_Q.ravel()\n",
    "    # print(f' is check : {previous_Q_temp is current_Q_temp}')\n",
    "    \n",
    "    delta = np.abs(current_Q_temp - previous_Q_temp)  #np.abs(\n",
    "    # print(current_Q - previous_Q)\n",
    "    return np.sum(delta) < threshold"
   ]
  },
  {
   "cell_type": "markdown",
   "id": "fc27c487-b114-455a-82df-bf41277d4e90",
   "metadata": {},
   "source": [
    "# Finite Deck Setting"
   ]
  },
  {
   "cell_type": "code",
   "execution_count": 3,
   "id": "97e70096-057a-4e06-92f7-94c998e71069",
   "metadata": {
    "ExecuteTime": {
     "end_time": "2024-01-17T13:53:58.557755700Z",
     "start_time": "2024-01-17T13:53:58.531644200Z"
    },
    "tags": []
   },
   "outputs": [
    {
     "name": "stderr",
     "output_type": "stream",
     "text": [
      "100%|█████████████████████████████████████████████████████████████████████████| 100000/100000 [02:03<00:00, 810.98it/s]\n"
     ]
    }
   ],
   "source": [
    "# Example usage\n",
    "num_states = 22  # 1 to 21 for card sum, and an additional state for bust\n",
    "num_actions = 2  # Actions: 0 for stick, 1 for hit\n",
    "discount_factor=0.95\n",
    "epsilon = 1\n",
    "min_epsilon = 0.05\n",
    "max_epsilon = epsilon\n",
    "decay_factor = 0.0005\n",
    "finite_agent = BlackjackQLearningAgent(num_states, num_actions, discount_factor=discount_factor, epsilon=epsilon)\n",
    "\n",
    "env = BlackJackStylised(num_decks=3)\n",
    "max_episodes = 100000\n",
    "converge_flag = False\n",
    "for episode in tqdm(range(max_episodes)):\n",
    "    cards, current_sum, usable_ace, hand_complete = env.reset_init(hard=True)\n",
    "    state = (int(current_sum-1), int(usable_ace))\n",
    "    done = hand_complete\n",
    "    finite_agent.epsilon = min_epsilon + (max_epsilon - min_epsilon)*np.exp(-decay_factor*episode) \n",
    "\n",
    "    \n",
    "    while not env.deck_complete: ## 1 episode\n",
    "        while not done: ## 1 Hand\n",
    "            if env.deck_complete:\n",
    "                break\n",
    "            action = finite_agent.choose_action(state)\n",
    "            next_cards, next_sum, next_usable_ace, hand_complete = env.step(action)\n",
    "            next_state = (next_sum-1, int(next_usable_ace))\n",
    "            reward = 0 if not hand_complete else quadratic_scorer(next_sum)\n",
    "            finite_agent.update(state, action, reward, next_state, hand_complete)\n",
    "            \n",
    "            state = next_state\n",
    "            done = hand_complete\n",
    "        \n",
    "        cards, current_sum, usable_ace, hand_complete = env.reset_init()\n",
    "        \n",
    "        state = (int(current_sum-1), int(usable_ace))\n",
    "\n",
    "        "
   ]
  },
  {
   "cell_type": "code",
   "execution_count": 16,
   "id": "1a55830b-8153-4648-8760-20ad84e4a03c",
   "metadata": {},
   "outputs": [],
   "source": [
    "def plot_q_values_(agent):\n",
    "    x1 = range(2, 22)\n",
    "    q_stick1 = [agent.Q[sum_val - 1, 0, 0] for sum_val in x1]\n",
    "    q_hit1 = [agent.Q[sum_val - 1, 0, 1] for sum_val in x1]\n",
    " \n",
    "    # Set 2\n",
    "    x2 = range(2, 22)\n",
    "    q_stick2 = [agent.Q[sum_val - 1, 1, 0] for sum_val in x2]\n",
    "    q_hit2 = [agent.Q[sum_val - 1, 1, 1] for sum_val in x2]\n",
    " \n",
    "    # Plot 1\n",
    "    fig, (ax1, ax2) = plt.subplots(2, 1, figsize=(6, 5))  # 2 rows, 1 column\n",
    "    bar_width = 0.25\n",
    "    bar_stick1 = [i - bar_width / 2 for i in x1]\n",
    "    bar_hit1 = [i + bar_width / 2 for i in x1]\n",
    "    ax1.bar(bar_stick1, q_stick1, bar_width, label='Stick')\n",
    "    ax1.bar(bar_hit1, q_hit1, bar_width, label='Hit')\n",
    "    ax1.set_xlabel('Current Sum')\n",
    "    ax1.set_ylabel('Q-Value')\n",
    "    ax1.set_title('Without Usable Ace')\n",
    "    ax1.set_xticks(x1)\n",
    "    ax1.set_xticklabels(x1)\n",
    "    ax1.legend()\n",
    " \n",
    "    # Plot 2\n",
    "    bar_stick2 = [i - bar_width / 2 for i in x2]\n",
    "    bar_hit2 = [i + bar_width / 2 for i in x2]\n",
    "    ax2.bar(bar_stick2, q_stick2, bar_width, label='Stick')\n",
    "    ax2.bar(bar_hit2, q_hit2, bar_width, label='Hit')\n",
    "    ax2.set_xlabel('Current Sum')\n",
    "    ax2.set_ylabel('Q-Value')\n",
    "    ax2.set_title('With Usable Ace')\n",
    "    ax2.set_xticks(x2)\n",
    "    ax2.set_xticklabels(x2)\n",
    "    ax2.legend()\n",
    " \n",
    "    plt.tight_layout()  # Ensures subplots do not overlap\n",
    "    plt.show()"
   ]
  },
  {
   "cell_type": "code",
   "execution_count": 17,
   "id": "e075cb21-1a01-44dc-b7cf-4fada6a99e08",
   "metadata": {},
   "outputs": [
    {
     "data": {
      "image/png": "[encoded data removed]",
      "text/plain": [
       "<Figure size 432x360 with 2 Axes>"
      ]
     },
     "metadata": {
      "needs_background": "light"
     },
     "output_type": "display_data"
    }
   ],
   "source": [
    "plot_q_values_(finite_agent)"
   ]
  },
  {
   "cell_type": "code",
   "execution_count": 5,
   "id": "4c6cde73-38fc-45ae-b3ac-2abb473a8260",
   "metadata": {},
   "outputs": [
    {
     "name": "stderr",
     "output_type": "stream",
     "text": [
      "100%|███████████████████████████████████████████████████████████████████████████| 10000/10000 [00:10<00:00, 969.19it/s]\n"
     ]
    },
    {
     "data": {
      "text/plain": [
       "(245.4154, 144.55417545972168)"
      ]
     },
     "execution_count": 5,
     "metadata": {},
     "output_type": "execute_result"
    }
   ],
   "source": [
    "evaluate_agent(n_eval_episodes=10000, Q=finite_agent.Q, num_decks=3, random_agent=False)"
   ]
  },
  {
   "cell_type": "code",
   "execution_count": 7,
   "id": "eea25424-57c2-4fb7-929b-3ee1ab948c81",
   "metadata": {},
   "outputs": [
    {
     "data": {
      "text/plain": [
       "(0.0, 0.0)"
      ]
     },
     "execution_count": 7,
     "metadata": {},
     "output_type": "execute_result"
    }
   ],
   "source": [
    "test_q_learning_agent(finite_agent, env, num_hands=1000)"
   ]
  },
  {
   "cell_type": "markdown",
   "id": "3e014b73-0963-40d8-b50a-4920463fea3b",
   "metadata": {},
   "source": [
    "# Infinite Deck Settings"
   ]
  },
  {
   "cell_type": "code",
   "execution_count": 8,
   "id": "30a8daa1-8ffc-4fa9-ac04-cef24dca5a0e",
   "metadata": {},
   "outputs": [
    {
     "name": "stderr",
     "output_type": "stream",
     "text": [
      "100%|████████████████████████████████████████████████████████████████████████| 100000/100000 [00:18<00:00, 5445.09it/s]\n"
     ]
    }
   ],
   "source": [
    "# Example usage\n",
    "num_states = 22  # 1 to 21 for card sum, and an additional state for bust\n",
    "num_actions = 2  # Actions: 0 for stick, 1 for hit\n",
    "discount_factor=0.95\n",
    "epsilon = 1\n",
    "min_epsilon = 0.05\n",
    "max_epsilon = epsilon\n",
    "decay_factor = 0.0005\n",
    "infinite_agent = BlackjackQLearningAgent(num_states, num_actions, discount_factor=discount_factor, epsilon=epsilon)\n",
    "\n",
    "# Assuming you have an instance of your environment\n",
    "env = BlackJackStylised(num_decks=None)\n",
    "max_episodes = 100000\n",
    "\n",
    "for episode in tqdm(range(max_episodes)):\n",
    "    cards, current_sum, usable_ace, hand_complete = env.reset_init(hard=True)\n",
    "    # print(env.card_counter)\n",
    "    # print(deck_feature)\n",
    "    state = (int(current_sum-1), int(usable_ace))\n",
    "    done = hand_complete\n",
    "    infinite_agent.epsilon = min_epsilon + (max_epsilon - min_epsilon)*np.exp(-decay_factor*episode) \n",
    "\n",
    "    \n",
    "    # while not env.deck_complete: ## 1 episode\n",
    "    while not done: ## 1 Hand\n",
    "        if env.deck_complete:\n",
    "            break\n",
    "        action = infinite_agent.choose_action(state)\n",
    "        next_cards, next_sum, next_usable_ace, hand_complete = env.step(action)\n",
    "        # next_deck_feature = get_deck_feature(env.card_counter)\n",
    "        next_state = (next_sum-1, int(next_usable_ace))\n",
    "        reward = 0 if not hand_complete else quadratic_scorer(next_sum)\n",
    "        infinite_agent.update(state, action, reward, next_state, hand_complete)\n",
    "\n",
    "\n",
    "        state = next_state\n",
    "        done = hand_complete\n",
    "        \n",
    "    cards, current_sum, usable_ace, hand_complete = env.reset_init()\n",
    "\n",
    "    state = (int(current_sum-1), int(usable_ace))\n"
   ]
  },
  {
   "cell_type": "code",
   "execution_count": 18,
   "id": "09c22b92-3865-4550-ad00-427991b7f078",
   "metadata": {},
   "outputs": [
    {
     "data": {
      "image/png": "[encoded data removed]",
      "text/plain": [
       "<Figure size 432x360 with 2 Axes>"
      ]
     },
     "metadata": {
      "needs_background": "light"
     },
     "output_type": "display_data"
    }
   ],
   "source": [
    "plot_q_values_(infinite_agent)"
   ]
  },
  {
   "cell_type": "code",
   "execution_count": 10,
   "id": "a95439e3-58ab-469b-a7fa-932a45e667d5",
   "metadata": {},
   "outputs": [
    {
     "name": "stderr",
     "output_type": "stream",
     "text": [
      "100%|██████████████████████████████████████████████████████████████████████████| 10000/10000 [00:04<00:00, 2204.35it/s]\n"
     ]
    },
    {
     "data": {
      "text/plain": [
       "(63.3658, 58.49359272911863)"
      ]
     },
     "execution_count": 10,
     "metadata": {},
     "output_type": "execute_result"
    }
   ],
   "source": [
    "evaluate_agent(n_eval_episodes=10000, Q=infinite_agent.Q, num_decks=None, random_agent=False)"
   ]
  },
  {
   "cell_type": "markdown",
   "id": "4375965c-6cc4-44f0-85fe-edda9e9d61e0",
   "metadata": {},
   "source": [
    "## Random Agent Infinite Deck"
   ]
  },
  {
   "cell_type": "code",
   "execution_count": 11,
   "id": "c9352216-c213-4a28-b78b-da42d30fc7f0",
   "metadata": {},
   "outputs": [
    {
     "name": "stderr",
     "output_type": "stream",
     "text": [
      "100%|██████████████████████████████████████████████████████████████████████████| 10000/10000 [00:01<00:00, 6789.11it/s]\n"
     ]
    },
    {
     "data": {
      "text/plain": [
       "(62.4486, 39.229756028300756)"
      ]
     },
     "execution_count": 11,
     "metadata": {},
     "output_type": "execute_result"
    }
   ],
   "source": [
    "evaluate_agent(n_eval_episodes=10000, random_agent=True)"
   ]
  },
  {
   "cell_type": "markdown",
   "id": "4591c1b1-93cc-4d28-9f85-5cdb32b7f731",
   "metadata": {},
   "source": [
    "## Random Agent finite Deck"
   ]
  },
  {
   "cell_type": "code",
   "execution_count": 5,
   "id": "c6c9daf8-ca41-4ce8-9029-f67b91be0d8c",
   "metadata": {},
   "outputs": [
    {
     "name": "stderr",
     "output_type": "stream",
     "text": [
      "100%|███████████████████████████████████████████████████████████████████████████| 10000/10000 [00:13<00:00, 766.50it/s]\n"
     ]
    },
    {
     "data": {
      "text/plain": [
       "(118.3938, 123.11977875857316)"
      ]
     },
     "execution_count": 5,
     "metadata": {},
     "output_type": "execute_result"
    }
   ],
   "source": [
    "evaluate_agent(n_eval_episodes=10000, num_decks=4, random_agent=True)"
   ]
  },
  {
   "cell_type": "code",
   "execution_count": null,
   "id": "3bdde456-e41c-482c-bf60-53260dc8e0d8",
   "metadata": {},
   "outputs": [],
   "source": []
  }
 ],
 "metadata": {
  "kernelspec": {
   "display_name": "Python 3 (ipykernel)",
   "language": "python",
   "name": "python3"
  },
  "language_info": {
   "codemirror_mode": {
    "name": "ipython",
    "version": 3
   },
   "file_extension": ".py",
   "mimetype": "text/x-python",
   "name": "python",
   "nbconvert_exporter": "python",
   "pygments_lexer": "ipython3",
   "version": "3.9.12"
  }
 },
 "nbformat": 4,
 "nbformat_minor": 5
}

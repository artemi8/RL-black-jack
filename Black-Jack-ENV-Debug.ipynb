{
 "cells": [
  {
   "cell_type": "markdown",
   "id": "47b19138-fce0-4c5c-8b0c-7b3a10dae2b6",
   "metadata": {},
   "source": [
    "# Black Jack stylised environment"
   ]
  },
  {
   "cell_type": "markdown",
   "id": "bf5ebec2-908d-4990-92ee-a77e5200a84d",
   "metadata": {},
   "source": [
    "## Deck Setup \n",
    "1. Card Suits : Spades, Hearts, Diamonds and Clubs\n",
    "2. Face Cards : Kings, Queens and Jacks\n",
    "3. Ace = Aces\n",
    "4. Number cards : 2 to 10"
   ]
  },
  {
   "cell_type": "markdown",
   "id": "58621088-83ca-40eb-a941-713c119e1ded",
   "metadata": {},
   "source": [
    "# Card value setup\n",
    "\n",
    "1. Face cards : 10\n",
    "2. Ace : 11 if bust 1\n",
    "3. Number : Numerical value equal to their number"
   ]
  },
  {
   "cell_type": "markdown",
   "id": "2366465d-f8ec-4a54-96c0-38e774232020",
   "metadata": {},
   "source": [
    "# Reward Function\n",
    "\n",
    "![Cost function](images/cost_function.png)"
   ]
  },
  {
   "cell_type": "markdown",
   "id": "b7da79b1-f02b-4d9c-91b9-2b713dfb30a4",
   "metadata": {},
   "source": [
    "## Doubts\n",
    "1. When calculating the score for the hand, when there is unusable ace, should be count that as 1 or 11?"
   ]
  },
  {
   "cell_type": "code",
   "execution_count": 7,
   "id": "46d7b532-28b0-4560-91ff-5d6246854346",
   "metadata": {},
   "outputs": [],
   "source": [
    "import numpy as np\n",
    "import random\n",
    "\n",
    "from utils.blackjack_env_builder import BlackJackStylised\n",
    "from utils.scorer import Scorer, quadratic_scorer\n",
    "from tqdm import tqdm\n",
    "from matplotlib import pyplot as plt\n",
    "from general import plot_Q_values"
   ]
  },
  {
   "cell_type": "code",
   "execution_count": 29,
   "id": "c59c8694-d051-40a7-b09c-dd000f65c7bb",
   "metadata": {},
   "outputs": [],
   "source": [
    "class MonteCarloES:\n",
    "    '''\n",
    "    Monte Carlo Exploring starts algorithm\n",
    "    '''\n",
    "    \n",
    "    # TODO Print the number of states and actions along with the defined init_configurations\n",
    "    def __init__(self, states, actions, init_config:dict, verbose=False): # reward_function\n",
    "        \n",
    "        self.states = states\n",
    "        self.actions = actions\n",
    "        self.init_config = init_config\n",
    "        # self.reward_function = reward_function\n",
    "        self.initialize_Q_returns()\n",
    "        \n",
    "    def epsilon_greedy_policy(self, state):\n",
    "        \n",
    "        if random.random() < self.init_config['epsilon']:\n",
    "            return random.choice(self.actions)\n",
    "        else:\n",
    "            return self._exploit(state)\n",
    "        \n",
    "    def _exploit(self, state):\n",
    "        greedy_action = max(list(self.Q[state].keys()),\n",
    "                                key=lambda x: self.Q[state][x]['value'])\n",
    "        return greedy_action\n",
    "        \n",
    "    \n",
    "    def initialize_Q_returns(self):\n",
    "        self.Q = {}\n",
    "        # self.returns = {}\n",
    "        for state in self.states:\n",
    "            action_dict = {}\n",
    "            for action in self.actions:\n",
    "                # self.returns[(state, action)] = {'mean':0, 'count':0}\n",
    "                action_dict[action] = {'value':self.init_config['init_state_action_val'], \n",
    "                                       'count':0}\n",
    "            self.Q[state] = action_dict\n",
    "            \n",
    "            \n",
    "    # TODO Check this function\n",
    "    def _moving_average_returns(self, state, action, G):\n",
    "        \n",
    "        curr_val = self.Q[state][action]['value']\n",
    "        count = self.Q[state][action]['count']\n",
    "        \n",
    "        # mov_avg = curr_val + ((G - curr_val)/count+1)\n",
    "        mov_avg = (curr_val * count + G)/ count + 1 \n",
    "        \n",
    "        return mov_avg\n",
    "            \n",
    "        \n",
    "    def policy_evaluation(self, episode):\n",
    "        \n",
    "        # Starting from reverse order for policy evaluation\n",
    "        # for episode in episodes:\n",
    "        state_repeat_check = []\n",
    "        G = 0\n",
    "        for state, action, reward in reversed(episode):\n",
    "\n",
    "            # TODO Check if returns are right\n",
    "            G = self.init_config['gamma']*G + reward\n",
    "\n",
    "            if (state, action) not in state_repeat_check:\n",
    "                state_repeat_check.append((state, action))\n",
    "                self.Q[state][action]['count'] += 1\n",
    "                self.Q[state][action]['value'] = self._moving_average_returns(state, action, G)\n",
    "            "
   ]
  },
  {
   "cell_type": "markdown",
   "id": "6d8b7225-528f-4ff8-9b42-d2147f2ac5a5",
   "metadata": {},
   "source": [
    "## For infinite Decks"
   ]
  },
  {
   "cell_type": "code",
   "execution_count": 30,
   "id": "bacbec9f-1296-431e-9497-164866027799",
   "metadata": {},
   "outputs": [],
   "source": [
    "env = BlackJackStylised()"
   ]
  },
  {
   "cell_type": "code",
   "execution_count": 31,
   "id": "88a8b7dd-b726-4f78-96c5-59f4f57cc5ab",
   "metadata": {},
   "outputs": [],
   "source": [
    "init_config= {'init_state_action_val': 0,\n",
    "              'epsilon' : 0.2,\n",
    "              'gamma' : 1}\n",
    "agent_v1 = MonteCarloES(states=list(range(2, 22)), actions=[0, 1],\n",
    "                        init_config=init_config)"
   ]
  },
  {
   "cell_type": "code",
   "execution_count": 32,
   "id": "5bcdb0a4-5f2c-4e14-b60b-8dee7ee3ec40",
   "metadata": {},
   "outputs": [
    {
     "name": "stderr",
     "output_type": "stream",
     "text": [
      "100%|█████████████████████████████████████████████████████████████████████| 1000000/1000000 [01:12<00:00, 13747.68it/s]\n"
     ]
    }
   ],
   "source": [
    "cards, curr_sum, usable_ace, hand_complete = env.reset_init(hard=True)\n",
    "total_episodes = 1000000\n",
    "episode_break_flag = True\n",
    "\n",
    "if not hand_complete:\n",
    "    # episodes = []\n",
    "    for i in tqdm(list(range(total_episodes))):\n",
    "        episode = []\n",
    "        episode_break_flag = True\n",
    "        while episode_break_flag:\n",
    "            action = agent_v1.epsilon_greedy_policy(curr_sum)\n",
    "            cards, new_sum, usable_ace, hand_complete = env.step(action)\n",
    "            \n",
    "            reward = quadratic_scorer(curr_sum)\n",
    "            episode.append([curr_sum, action, reward])\n",
    "            curr_sum = new_sum\n",
    "            \n",
    "            if curr_sum > 21:\n",
    "                episode_break_flag = False\n",
    "            elif hand_complete:\n",
    "                episode_break_flag = False\n",
    "                \n",
    "        agent_v1.policy_evaluation(episode)\n",
    "        # episodes.append(episode)\n",
    "        cards, curr_sum, usable_ace, hand_complete = env.reset_init()"
   ]
  },
  {
   "cell_type": "code",
   "execution_count": 15,
   "id": "95aa6776-05cd-4d73-8663-868afd6a988f",
   "metadata": {
    "collapsed": true,
    "jupyter": {
     "outputs_hidden": true
    },
    "tags": []
   },
   "outputs": [
    {
     "data": {
      "text/plain": [
       "{2: {0: {'value': 7795.134524247638, 'count': 7757},\n",
       "  1: {'value': 73912.9636359981, 'count': 69213}},\n",
       " 3: {0: {'value': 7721.661192948616, 'count': 7636},\n",
       "  1: {'value': 73434.96343450695, 'count': 69020}},\n",
       " 4: {0: {'value': 8327.375847957499, 'count': 8174},\n",
       "  1: {'value': 77665.620626268, 'count': 73439}},\n",
       " 5: {0: {'value': 9055.53422592906, 'count': 8814},\n",
       "  1: {'value': 83504.84443835377, 'count': 78864}},\n",
       " 6: {0: {'value': 9663.795557724014, 'count': 9314},\n",
       "  1: {'value': 88314.17074346644, 'count': 83575}},\n",
       " 7: {0: {'value': 10460.499511872746, 'count': 9981},\n",
       "  1: {'value': 93871.2801144893, 'count': 89091}},\n",
       " 8: {0: {'value': 11278.424958810601, 'count': 10648},\n",
       "  1: {'value': 100235.03865535957, 'count': 95046}},\n",
       " 9: {0: {'value': 12255.777498269372, 'count': 11452},\n",
       "  1: {'value': 107342.4016379173, 'count': 101563}},\n",
       " 10: {0: {'value': 36166.21031271992, 'count': 35062},\n",
       "  1: {'value': 322335.7036869725, 'count': 315948}},\n",
       " 11: {0: {'value': 13990.95146745183, 'count': 12777},\n",
       "  1: {'value': 121759.25074803589, 'count': 115018}},\n",
       " 12: {0: {'value': 11766.39665322229, 'count': 10352},\n",
       "  1: {'value': 99594.48828366645, 'count': 94124}},\n",
       " 13: {0: {'value': 13189.900334436783, 'count': 11512},\n",
       "  1: {'value': 105731.16970920385, 'count': 100646}},\n",
       " 14: {0: {'value': 13608.470889144586, 'count': 11660},\n",
       "  1: {'value': 108100.47206173991, 'count': 103084}},\n",
       " 15: {0: {'value': 14550.824023531319, 'count': 12302},\n",
       "  1: {'value': 111512.18381883517, 'count': 105866}},\n",
       " 16: {0: {'value': 14989.270570652092, 'count': 12428},\n",
       "  1: {'value': 113569.87681389897, 'count': 108240}},\n",
       " 17: {0: {'value': 115490.71115938573, 'count': 111964},\n",
       "  1: {'value': 16506.35593048854, 'count': 12207}},\n",
       " 18: {0: {'value': 112616.15234802278, 'count': 108672},\n",
       "  1: {'value': 16368.47903004742, 'count': 11878}},\n",
       " 19: {0: {'value': 15427.081862541248, 'count': 11833},\n",
       "  1: {'value': 108545.16846375687, 'count': 102904}},\n",
       " 20: {0: {'value': 154196.10479314055, 'count': 149200},\n",
       "  1: {'value': 21072.797165491887, 'count': 16329}},\n",
       " 21: {0: {'value': 107131.58715079633, 'count': 101792},\n",
       "  1: {'value': 16760.87662534615, 'count': 11068}}}"
      ]
     },
     "execution_count": 15,
     "metadata": {},
     "output_type": "execute_result"
    }
   ],
   "source": [
    "agent_v1.Q"
   ]
  },
  {
   "cell_type": "code",
   "execution_count": 33,
   "id": "c1f50042-3e7f-4a61-a018-f3f3597dc83f",
   "metadata": {},
   "outputs": [
    {
     "data": {
      "image/png": "[encoded data removed]",
      "text/plain": [
       "<Figure size 720x360 with 1 Axes>"
      ]
     },
     "metadata": {
      "needs_background": "light"
     },
     "output_type": "display_data"
    }
   ],
   "source": [
    "plot_Q_values(agent_v1.Q)\n"
   ]
  },
  {
   "cell_type": "code",
   "execution_count": null,
   "id": "de665804-1305-4f7a-8260-11af15c81959",
   "metadata": {},
   "outputs": [],
   "source": []
  }
 ],
 "metadata": {
  "kernelspec": {
   "display_name": "Python 3 (ipykernel)",
   "language": "python",
   "name": "python3"
  },
  "language_info": {
   "codemirror_mode": {
    "name": "ipython",
    "version": 3
   },
   "file_extension": ".py",
   "mimetype": "text/x-python",
   "name": "python",
   "nbconvert_exporter": "python",
   "pygments_lexer": "ipython3",
   "version": "3.9.12"
  }
 },
 "nbformat": 4,
 "nbformat_minor": 5
}

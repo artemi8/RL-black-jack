{
 "cells": [
  {
   "cell_type": "markdown",
   "id": "47b19138-fce0-4c5c-8b0c-7b3a10dae2b6",
   "metadata": {},
   "source": [
    "# Black Jack stylised environment"
   ]
  },
  {
   "cell_type": "markdown",
   "id": "bf5ebec2-908d-4990-92ee-a77e5200a84d",
   "metadata": {},
   "source": [
    "## Deck Setup \n",
    "1. Card Suits : Spades, Hearts, Diamonds and Clubs\n",
    "2. Face Cards : Kings, Queens and Jacks\n",
    "3. Ace = Aces\n",
    "4. Number cards : 2 to 10"
   ]
  },
  {
   "cell_type": "markdown",
   "id": "58621088-83ca-40eb-a941-713c119e1ded",
   "metadata": {},
   "source": [
    "# Card value setup\n",
    "\n",
    "1. Face cards : 10\n",
    "2. Ace : 11 if bust 1\n",
    "3. Number : Numerical value equal to their number"
   ]
  },
  {
   "cell_type": "markdown",
   "id": "2366465d-f8ec-4a54-96c0-38e774232020",
   "metadata": {},
   "source": [
    "# Reward Function\n",
    "\n",
    "![Cost function](images/cost_function.png)"
   ]
  },
  {
   "cell_type": "markdown",
   "id": "b7da79b1-f02b-4d9c-91b9-2b713dfb30a4",
   "metadata": {},
   "source": [
    "## Doubts\n",
    "1. When calculating the score for the hand, when there is unusable ace, should be count that as 1 or 11?\n",
    "2. How do we score and end the game when there is only one last card left in the deck and still the agent wants to stick?\n",
    "4. How do I make reward after each state and action, question seems to give reward only after a hand is finished?"
   ]
  },
  {
   "cell_type": "code",
   "execution_count": 2,
   "id": "46d7b532-28b0-4560-91ff-5d6246854346",
   "metadata": {},
   "outputs": [],
   "source": [
    "import numpy as np\n",
    "import random\n",
    "\n",
    "from utils.blackjack_env_builder import BlackJackStylised\n",
    "from utils.scorer import Scorer, quadratic_scorer\n",
    "from tqdm import tqdm\n",
    "from matplotlib import pyplot as plt\n",
    "from utils.general import plot_Q_values"
   ]
  },
  {
   "cell_type": "code",
   "execution_count": 3,
   "id": "c59c8694-d051-40a7-b09c-dd000f65c7bb",
   "metadata": {},
   "outputs": [],
   "source": [
    "class MonteCarloES:\n",
    "    '''\n",
    "    Monte Carlo Exploring starts algorithm\n",
    "    '''\n",
    "    \n",
    "    # TODO Print the number of states and actions along with the defined init_configurations\n",
    "    def __init__(self, states, actions, init_config:dict, verbose=False): # reward_function\n",
    "        \n",
    "        self.states = states\n",
    "        self.actions = actions\n",
    "        self.init_config = init_config\n",
    "        # self.reward_function = reward_function\n",
    "        self.initialize_Q_returns()\n",
    "        \n",
    "    def epsilon_greedy_policy(self, state):\n",
    "        \n",
    "        if random.random() < self.init_config['epsilon']:\n",
    "            return random.choice(self.actions)\n",
    "        else:\n",
    "            return self._exploit(state)\n",
    "        \n",
    "    def _exploit(self, state):\n",
    "        greedy_action = max(list(self.Q[state].keys()),\n",
    "                                key=lambda x: self.Q[state][x]['value'])\n",
    "        return greedy_action\n",
    "        \n",
    "    \n",
    "    def initialize_Q_returns(self):\n",
    "        self.Q = {}\n",
    "        # self.returns = {}\n",
    "        for state in self.states:\n",
    "            action_dict = {}\n",
    "            for action in self.actions:\n",
    "                # self.returns[(state, action)] = {'mean':0, 'count':0}\n",
    "                action_dict[action] = {'value':self.init_config['init_state_action_val'], \n",
    "                                       'count':0}\n",
    "            self.Q[state] = action_dict\n",
    "            \n",
    "            \n",
    "    # TODO Check this function\n",
    "    def _moving_average_returns(self, state, action, G):\n",
    "        \n",
    "        curr_val = self.Q[state][action]['value']\n",
    "        count = self.Q[state][action]['count']\n",
    "        \n",
    "        mov_avg = curr_val + ((G - curr_val)/count+1)\n",
    "        # mov_avg = (curr_val * count + G)/ count + 1 \n",
    "        \n",
    "        return mov_avg\n",
    "            \n",
    "        \n",
    "    def policy_evaluation(self, episode):\n",
    "        \n",
    "        # Starting from reverse order for policy evaluation\n",
    "        # for episode in episodes:\n",
    "        state_repeat_check = []\n",
    "        G = 0\n",
    "        for state, action, reward in reversed(episode):\n",
    "\n",
    "            # TODO Check if returns are right\n",
    "            G = self.init_config['gamma']*G + reward\n",
    "\n",
    "            if (state, action) not in state_repeat_check:\n",
    "                state_repeat_check.append((state, action))\n",
    "                self.Q[state][action]['count'] += 1\n",
    "                self.Q[state][action]['value'] = self._moving_average_returns(state, action, G)\n",
    "            "
   ]
  },
  {
   "cell_type": "markdown",
   "id": "6d8b7225-528f-4ff8-9b42-d2147f2ac5a5",
   "metadata": {},
   "source": [
    "## For infinite Decks"
   ]
  },
  {
   "cell_type": "code",
   "execution_count": 7,
   "id": "bacbec9f-1296-431e-9497-164866027799",
   "metadata": {},
   "outputs": [],
   "source": [
    "env = BlackJackStylised()"
   ]
  },
  {
   "cell_type": "code",
   "execution_count": null,
   "id": "88a8b7dd-b726-4f78-96c5-59f4f57cc5ab",
   "metadata": {},
   "outputs": [],
   "source": [
    "init_config= {'init_state_action_val': 0,\n",
    "              'epsilon' : 0.25,\n",
    "              'gamma' : 0.8}\n",
    "agent_v1 = MonteCarloES(states=list(range(2, 22)), actions=[0, 1],\n",
    "                        init_config=init_config)"
   ]
  },
  {
   "cell_type": "markdown",
   "id": "7912c897-230e-47a4-80f1-2a131b4360af",
   "metadata": {},
   "source": [
    "## TODO\n",
    "1. Add usable ace bool to the state"
   ]
  },
  {
   "cell_type": "code",
   "execution_count": 9,
   "id": "277ff938-fc60-493b-982f-94c6ccc2f0fb",
   "metadata": {},
   "outputs": [
    {
     "name": "stderr",
     "output_type": "stream",
     "text": [
      "100%|█████████████████████████████████████████████████████████████████████| 1000000/1000000 [00:49<00:00, 20023.60it/s]\n"
     ]
    }
   ],
   "source": [
    "\n",
    "cards, curr_sum, usable_ace, hand_complete = env.reset_init(hard=True)\n",
    "total_episodes = 1000000\n",
    "episode_break_flag = True\n",
    "\n",
    "if not hand_complete:\n",
    "    # episodes = []\n",
    "    for i in tqdm(list(range(total_episodes))):\n",
    "        episode = []\n",
    "        episode_break_flag = True\n",
    "        last_sum = 0\n",
    "        while episode_break_flag:\n",
    "            action = agent_v1.epsilon_greedy_policy(curr_sum)\n",
    "            cards, new_sum, usable_ace, hand_complete = env.step(action)\n",
    "            \n",
    "            if curr_sum > 21:\n",
    "                episode_break_flag = False\n",
    "                last_sum = curr_sum\n",
    "            elif hand_complete:\n",
    "                episode_break_flag = False\n",
    "                last_sum = curr_sum\n",
    "                \n",
    "            curr_sum = new_sum\n",
    "                \n",
    "        reward = quadratic_scorer(curr_sum)\n",
    "        episode.append([last_sum, action, reward])\n",
    "                \n",
    "        agent_v1.policy_evaluation(episode)\n",
    "        # episodes.append(episode)\n",
    "        cards, curr_sum, usable_ace, hand_complete = env.reset_init()"
   ]
  },
  {
   "cell_type": "code",
   "execution_count": 12,
   "id": "5bcdb0a4-5f2c-4e14-b60b-8dee7ee3ec40",
   "metadata": {},
   "outputs": [
    {
     "name": "stderr",
     "output_type": "stream",
     "text": [
      "100%|██████████████████████████████████████████████████████████████████████| 1000000/1000000 [01:42<00:00, 9787.71it/s]\n"
     ]
    }
   ],
   "source": [
    "cards, curr_sum, usable_ace, hand_complete = env.reset_init(hard=True)\n",
    "total_episodes = 1000000\n",
    "episode_break_flag = True\n",
    "\n",
    "if not hand_complete:\n",
    "    # episodes = []\n",
    "    for i in tqdm(list(range(total_episodes))):\n",
    "        episode = []\n",
    "        episode_break_flag = True\n",
    "        while episode_break_flag:\n",
    "            action = agent_v1.epsilon_greedy_policy(curr_sum)\n",
    "            cards, new_sum, usable_ace, hand_complete = env.step(action)\n",
    "            \n",
    "            reward = quadratic_scorer(new_sum)\n",
    "            episode.append([curr_sum, action, reward])\n",
    "            curr_sum = new_sum\n",
    "            \n",
    "            if curr_sum > 21:\n",
    "                episode_break_flag = False\n",
    "            elif hand_complete:\n",
    "                episode_break_flag = False\n",
    "                \n",
    "        agent_v1.policy_evaluation(episode)\n",
    "        # episodes.append(episode)\n",
    "        cards, curr_sum, usable_ace, hand_complete = env.reset_init()"
   ]
  },
  {
   "cell_type": "code",
   "execution_count": 13,
   "id": "484d2495-8f38-4f53-857a-fc7f407aecf3",
   "metadata": {},
   "outputs": [
    {
     "data": {
      "image/png": "[encoded data removed]",
      "text/plain": [
       "<Figure size 720x360 with 1 Axes>"
      ]
     },
     "metadata": {
      "needs_background": "light"
     },
     "output_type": "display_data"
    }
   ],
   "source": [
    "plot_Q_values(agent_v1.Q)"
   ]
  },
  {
   "cell_type": "code",
   "execution_count": 10,
   "id": "2bcf0689-85cc-43bc-a701-e2757278f3f8",
   "metadata": {},
   "outputs": [
    {
     "data": {
      "image/png": "[encoded data removed]",
      "text/plain": [
       "<Figure size 720x360 with 1 Axes>"
      ]
     },
     "metadata": {
      "needs_background": "light"
     },
     "output_type": "display_data"
    }
   ],
   "source": [
    "plot_Q_values(agent_v1.Q)"
   ]
  },
  {
   "cell_type": "code",
   "execution_count": null,
   "id": "de665804-1305-4f7a-8260-11af15c81959",
   "metadata": {},
   "outputs": [],
   "source": []
  }
 ],
 "metadata": {
  "kernelspec": {
   "display_name": "Python 3 (ipykernel)",
   "language": "python",
   "name": "python3"
  },
  "language_info": {
   "codemirror_mode": {
    "name": "ipython",
    "version": 3
   },
   "file_extension": ".py",
   "mimetype": "text/x-python",
   "name": "python",
   "nbconvert_exporter": "python",
   "pygments_lexer": "ipython3",
   "version": "3.9.12"
  }
 },
 "nbformat": 4,
 "nbformat_minor": 5
}

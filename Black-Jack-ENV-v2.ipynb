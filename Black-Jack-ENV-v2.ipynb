{
 "cells": [
  {
   "cell_type": "code",
   "execution_count": 14,
   "id": "46d7b532-28b0-4560-91ff-5d6246854346",
   "metadata": {},
   "outputs": [],
   "source": [
    "import numpy as np\n",
    "import random"
   ]
  },
  {
   "cell_type": "markdown",
   "id": "47b19138-fce0-4c5c-8b0c-7b3a10dae2b6",
   "metadata": {},
   "source": [
    "# Black Jack stylised environment"
   ]
  },
  {
   "cell_type": "markdown",
   "id": "bf5ebec2-908d-4990-92ee-a77e5200a84d",
   "metadata": {},
   "source": [
    "## Deck Setup \n",
    "1. Card Suits : Spades, Hearts, Diamonds and Clubs\n",
    "2. Face Cards : Kings, Queens and Jacks\n",
    "3. Ace = Aces\n",
    "4. Number cards : 2 to 10"
   ]
  },
  {
   "cell_type": "markdown",
   "id": "58621088-83ca-40eb-a941-713c119e1ded",
   "metadata": {},
   "source": [
    "# Card value setup\n",
    "\n",
    "1. Face cards : 10\n",
    "2. Ace : 11 if bust 1\n",
    "3. Number : Numerical value equal to their number"
   ]
  },
  {
   "cell_type": "code",
   "execution_count": 16,
   "id": "f4296035-31bd-4894-bf57-6aeb5eb1c1bb",
   "metadata": {},
   "outputs": [
    {
     "data": {
      "text/plain": [
       "(['A', 'K', 'Q', 'J', '2', '3', '4', '5', '6', '7', '8', '9', '10'], 13)"
      ]
     },
     "execution_count": 16,
     "metadata": {},
     "output_type": "execute_result"
    }
   ],
   "source": [
    "suitless_group, len(suitless_group)"
   ]
  },
  {
   "cell_type": "markdown",
   "id": "a5dc53db-ddd1-4cdd-9e5b-e9a203b72958",
   "metadata": {},
   "source": [
    "# Verify deck creation once with Tamal"
   ]
  },
  {
   "cell_type": "code",
   "execution_count": 41,
   "id": "5319af9b-b4eb-4b7f-944f-405ec405b746",
   "metadata": {},
   "outputs": [],
   "source": [
    "class BlackJackActions:\n",
    "    '''\n",
    "    \n",
    "    Black Jack Actions class and Random action sampler\n",
    "    Actions\n",
    "        1 : Hit\n",
    "        0 : Stick\n",
    "        \n",
    "    '''\n",
    "    def __init__(self):\n",
    "        self.action_space = np.array([1, 0])\n",
    "        \n",
    "    def sample(self):\n",
    "        return np.random.choice(self.action_space)\n",
    "\n",
    "\n",
    "class BlackJackStylised:\n",
    "    '''\n",
    "    Deck Setup\n",
    "        Card Suits : Spades, Hearts, Diamonds and Clubs\n",
    "        Face Cards : Kings, Queens and Jacks\n",
    "        Ace = Aces\n",
    "        Number cards : 2 to 10\n",
    "        \n",
    "    Card value setup\n",
    "        Face cards : 10\n",
    "        Ace : 11 if bust 1\n",
    "        Number : Numerical value equal to their number\n",
    "        \n",
    "        \n",
    "    Actions\n",
    "        1 : Hit\n",
    "        0 : Stick\n",
    "    '''\n",
    "    \n",
    "    _card_suits = ['S', 'H', 'D', 'C']\n",
    "    _face_cards = ['K', 'Q', 'J']\n",
    "    _ace = ['A']\n",
    "    _number_cards = ['2', '3', '4', '5', '6', '7', '8', '9', '10'] \n",
    "    _face_cards_value = 10\n",
    "    _usable_ace = 11\n",
    "    _unusable_ace = 1\n",
    "    _max_hand_value = 21\n",
    "\n",
    "    _suitless_group = _ace + _face_cards + _number_cards\n",
    "    \n",
    "    def __init__(self, num_decks=None, max_episodes=None):\n",
    "    \n",
    "        self.num_decks = num_decks\n",
    "        self.max_episodes = max_episodes\n",
    "        self.inf_deck = False\n",
    "        self.deck_complete = False\n",
    "        self.reset_init(hard=True)\n",
    "        \n",
    "    \n",
    "    def reset_init(self, hard=False):\n",
    "        '''\n",
    "        TODO \n",
    "        ***Handle Natural black jack while dealing***\n",
    "        '''\n",
    "        \n",
    "        if self.num_decks is None or hard == True:\n",
    "            self.action = BlackJackActions()\n",
    "            self._create_n_decks()\n",
    "            self.episode_counter = 0\n",
    "            self.hand_complete = False\n",
    "            self.usable_ace = False\n",
    "            self.deck_complete = False\n",
    "        \n",
    "        else:\n",
    "            self.hand_complete = False\n",
    "            self.usable_ace = False\n",
    "            \n",
    "        if self.num_decks is None:\n",
    "            self.player_hand = self._infinitsampler(init = True)\n",
    "        else:\n",
    "            if self.deck_complete:\n",
    "                self.hand_complete = True\n",
    "                self.current_sum = sum(self.get_card_value(self.player_hand))\n",
    "                return (self.player_hand, self.current_sum, self.usable_ace, self.hand_complete)\n",
    "                \n",
    "            self.player_hand = self._finitsampler(init = True)\n",
    "            \n",
    "        \n",
    "        self.current_sum = sum(self.get_card_value(self.player_hand))\n",
    "        \n",
    "        if self.current_sum > self._max_hand_value:\n",
    "            self.hand_complete = True\n",
    "            print(\"That's a natural black jack\")\n",
    "                \n",
    "        return (self.player_hand, self.current_sum, self.usable_ace, self.hand_complete)\n",
    "        \n",
    "        \n",
    "    def step(self, action):\n",
    "        '''\n",
    "        returns Tuple(cards in hand, total sum, useable ace bool, hand complete bool)\n",
    "        '''\n",
    "        if self.hand_complete == True:\n",
    "            raise Exception('Hand is complete, reset before drawing a card!')\n",
    "            \n",
    "        if self.max_episodes is not None:\n",
    "            if self.episode_counter > self.max_episodes:\n",
    "                raise Exception('Episode count exceeded maximum limit! Please reset before starting the game.')\n",
    "\n",
    "            if self.max_episodes is not None:\n",
    "                self.episode_counter += 1\n",
    "                    \n",
    "        # Infinite sampler for infinite decks\n",
    "        if self.inf_deck: \n",
    "            if action == 1:\n",
    "                self.player_hand.append(self._infinitsampler(init=False)[0])\n",
    "                self.current_sum = sum(self.get_card_value(self.player_hand))\n",
    "\n",
    "                if self.current_sum > self._max_hand_value:\n",
    "                    self.hand_complete = True\n",
    "                    print('Player is bust total sum is greater than 21!')\n",
    "                return (self.player_hand, self.current_sum, self.usable_ace, self.hand_complete)\n",
    "            else:\n",
    "                self.hand_complete = True\n",
    "                return (self.player_hand, self.current_sum, self.usable_ace, self.hand_complete)\n",
    "        \n",
    "        # TODO WIP  Finite sampler for finite deck \n",
    "        else:\n",
    "            if action == 1:\n",
    "                self.player_hand.append(self._finitsampler(init=False)[0])\n",
    "                self.current_sum = sum(self.get_card_value(self.player_hand))\n",
    "\n",
    "                if self.current_sum > self._max_hand_value:\n",
    "                    self.hand_complete = True\n",
    "                    print('Player is bust total sum is greater than 21!')\n",
    "                return (self.player_hand, self.current_sum, self.usable_ace, self.hand_complete)\n",
    "            else:\n",
    "                self.hand_complete = True\n",
    "                return (self.player_hand, self.current_sum, self.usable_ace, self.hand_complete)\n",
    "            \n",
    "        \n",
    "    \n",
    "    def _infinitsampler(self, init = False):\n",
    "        '''\n",
    "        TODO\n",
    "        return with a bool of usable_ace\n",
    "        '''\n",
    "        if init == True:\n",
    "            return random.choices(self.decks, k=2)\n",
    "        else:\n",
    "            return random.choices(self.decks, k=1)\n",
    "        \n",
    "    def _finitsampler(self, init=False):\n",
    "        \n",
    "        if init == True:\n",
    "            if len(self.decks) < 2:\n",
    "                self.deck_complete = True\n",
    "                return []\n",
    "            \n",
    "            cards_dealt = self.decks[-2:]\n",
    "            self.decks =  self.decks[:-2]\n",
    "            \n",
    "            self.card_counter[self._get_suitless_card(cards_dealt[0])]['curr_count'] -= 1 \n",
    "            self.card_counter[self._get_suitless_card(cards_dealt[1])]['curr_count'] -= 1\n",
    "            \n",
    "            return cards_dealt\n",
    "        else:\n",
    "            if len(self.decks) < 1:\n",
    "                self.deck_complete = True\n",
    "                return []\n",
    "            \n",
    "            card_drawn = self.decks.pop()\n",
    "            self.card_counter[self._get_suitless_card(card_drawn)]['curr_count'] -= 1\n",
    "            return [card_drawn]\n",
    "        \n",
    "    def _get_suitless_card(self, suit_card):\n",
    "        return suit_card.split('.')[-1]\n",
    "        \n",
    "    def _create_deck(self):\n",
    "        \n",
    "        deck = []\n",
    "        for suit in self._card_suits:\n",
    "            for suitless_card in self._suitless_group:\n",
    "                deck.append(suit+'.'+suitless_card)\n",
    "                \n",
    "        np.random.shuffle(deck)\n",
    "        \n",
    "        return deck\n",
    "        \n",
    "    def _create_n_decks(self):\n",
    "        \n",
    "        if self.num_decks is None:\n",
    "            self.decks = self._create_deck()\n",
    "            self.inf_deck = True\n",
    "            \n",
    "        else:\n",
    "            self.decks = []\n",
    "            self._create_card_counter()\n",
    "            \n",
    "            for i in range(self.num_decks):\n",
    "                self.decks += self._create_deck()\n",
    "            \n",
    "            np.random.shuffle(self.decks)\n",
    "            \n",
    "    def _create_card_counter(self):\n",
    "        \n",
    "        card_keys = self._face_cards + self._ace + self._number_cards\n",
    "        self.card_counter = {}\n",
    "        for key in card_keys:\n",
    "            self.card_counter[key] = {'curr_count':self.num_decks, 'total':self.num_decks}\n",
    "                    \n",
    "        \n",
    "\n",
    "    def get_card_value(self, cards):\n",
    "        '''\n",
    "        Returns list of card values individually\n",
    "        '''\n",
    "        \n",
    "        hand_values = []\n",
    "        for card in cards:\n",
    "            suitless_card = card.split('.')[-1]\n",
    "\n",
    "            if suitless_card in self._number_cards:\n",
    "                hand_values.append(int(suitless_card))\n",
    "\n",
    "            elif suitless_card == 'A':\n",
    "                if self.current_sum + self._usable_ace > 21:\n",
    "                    self.usable_ace = False\n",
    "                    hand_values.append(self._unusable_ace)\n",
    "                else:\n",
    "                    self.usable_ace = True\n",
    "                    hand_values.append(self._usable_ace)\n",
    "            else:\n",
    "                hand_values.append(self._face_cards_value)\n",
    "        return hand_values\n",
    "        "
   ]
  },
  {
   "cell_type": "code",
   "execution_count": 47,
   "id": "88b04f6e-d9e7-40b3-956a-5f31c4c665b9",
   "metadata": {},
   "outputs": [],
   "source": [
    "env = BlackJackStylised(num_decks=2)"
   ]
  },
  {
   "cell_type": "code",
   "execution_count": 48,
   "id": "93ba54bf-0211-405c-84fe-f90f307fdb1e",
   "metadata": {},
   "outputs": [
    {
     "data": {
      "text/plain": [
       "(['S.10', 'S.8'], 18, False, False)"
      ]
     },
     "execution_count": 48,
     "metadata": {},
     "output_type": "execute_result"
    }
   ],
   "source": [
    "env.reset_init()"
   ]
  },
  {
   "cell_type": "code",
   "execution_count": 49,
   "id": "325bc3ef-a174-4228-a839-1c71d5b61d17",
   "metadata": {},
   "outputs": [
    {
     "name": "stdout",
     "output_type": "stream",
     "text": [
      "Player is bust total sum is greater than 21!\n"
     ]
    },
    {
     "data": {
      "text/plain": [
       "(['S.10', 'S.8', 'H.Q'], 28, False, True)"
      ]
     },
     "execution_count": 49,
     "metadata": {},
     "output_type": "execute_result"
    }
   ],
   "source": [
    "env.step(1)"
   ]
  },
  {
   "cell_type": "code",
   "execution_count": 50,
   "id": "47aa755e-2d01-4e1b-b214-ea7b5d19f0d9",
   "metadata": {},
   "outputs": [
    {
     "data": {
      "text/plain": [
       "{'K': {'curr_count': 2, 'total': 2},\n",
       " 'Q': {'curr_count': 1, 'total': 2},\n",
       " 'J': {'curr_count': 2, 'total': 2},\n",
       " 'A': {'curr_count': 2, 'total': 2},\n",
       " '2': {'curr_count': 2, 'total': 2},\n",
       " '3': {'curr_count': 2, 'total': 2},\n",
       " '4': {'curr_count': 2, 'total': 2},\n",
       " '5': {'curr_count': 1, 'total': 2},\n",
       " '6': {'curr_count': 2, 'total': 2},\n",
       " '7': {'curr_count': 1, 'total': 2},\n",
       " '8': {'curr_count': 1, 'total': 2},\n",
       " '9': {'curr_count': 2, 'total': 2},\n",
       " '10': {'curr_count': 1, 'total': 2}}"
      ]
     },
     "execution_count": 50,
     "metadata": {},
     "output_type": "execute_result"
    }
   ],
   "source": [
    "env.card_counter"
   ]
  },
  {
   "cell_type": "code",
   "execution_count": null,
   "id": "368d9c79-9dcd-4d8e-8bae-c093a6f4daa7",
   "metadata": {},
   "outputs": [],
   "source": []
  }
 ],
 "metadata": {
  "kernelspec": {
   "display_name": "Python 3 (ipykernel)",
   "language": "python",
   "name": "python3"
  },
  "language_info": {
   "codemirror_mode": {
    "name": "ipython",
    "version": 3
   },
   "file_extension": ".py",
   "mimetype": "text/x-python",
   "name": "python",
   "nbconvert_exporter": "python",
   "pygments_lexer": "ipython3",
   "version": "3.9.12"
  }
 },
 "nbformat": 4,
 "nbformat_minor": 5
}
